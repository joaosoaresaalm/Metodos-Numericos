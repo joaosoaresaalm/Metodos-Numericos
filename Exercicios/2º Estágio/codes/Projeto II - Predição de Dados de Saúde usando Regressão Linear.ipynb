{
 "cells": [
  {
   "cell_type": "markdown",
   "metadata": {},
   "source": [
    "    Instituto Federal de Educação, Ciência e Tecnologia da Paraíba\n",
    "                        Engenharia de Computação\n",
    "                        \n",
    "                        \n",
    "                        \n",
    "                        \n",
    "                        \n",
    "                        \n",
    "                        \n",
    "                        \n",
    "                        \n",
    "                        \n",
    "                        \n",
    "                        \n",
    "                        \n",
    "                     PREDIÇÃO DE DADOS DE SAÚDE\n",
    "                      USANDO REGRESSÃO LINEAR\n",
    "                     \n",
    "                     \n",
    "                     \n",
    "                     \n",
    "                     \n",
    "                     \n",
    "                     \n",
    "                     \n",
    "                     \n",
    "                     \n",
    "                     \n",
    "                     \n",
    "                     JOÃO VICTOR SOARES DE ALMEIDA\n",
    "                     MANOEL MARCELO CARVALHO JUNIOR\n",
    "                        \n",
    "                     \n",
    "                     \n",
    "                     \n",
    "                     \n",
    "                     \n",
    "                     \n",
    "                     \n",
    "                     \n",
    "                     \n",
    "                     \n",
    "                     \n",
    "                     \n",
    "                     \n",
    "                     \n",
    "                     \n",
    "                     \n",
    "                     \n",
    "                     \n",
    "                     \n",
    "                     CAMPINA GRANDE - 2019\n",
    "                     "
   ]
  },
  {
   "cell_type": "markdown",
   "metadata": {},
   "source": []
  },
  {
   "cell_type": "markdown",
   "metadata": {},
   "source": [
    "<h2>1 Introdução </h2>"
   ]
  },
  {
   "cell_type": "markdown",
   "metadata": {},
   "source": [
    "\n",
    "A análise de Regressão consiste na realização de uma análise estatística com objetivo de verificar a existência de uma relação funcional entre uma variável dependente com uma ou \n",
    "mais variáveis independentes. Para tentar estabelecer uma equação que representa o fenômeno em estudo pode-se fazer um gráfico, chamado de diagrama de dispersão, para verificar como se comportam os valores da variável dependente (Y) em função da variável independente (X). O comportamento de **Y em relação à X** pode-se apresentar de diversas maneiras: linear, quadrático, cúbico, exponencial, logarítmico, entre outros. Para se estabelecer o modelo para explicar o fenômeno, deve-se verificar qual tipo de curva e equação de um modelo matemático que mais se aproxime dos pontos representados no diagrama de dispersão.\n",
    "\n",
    "A regressão, em geral,  tem como objetivo tratar de um valor que não conseguimos estimar inicialmente. Não obstante, utilizaremos da ferramenta Regressão Linear para analisar um conjunto de dados de pacientes com diabetes. Os dados consistem em 442 amostras e 10 variáveis - **todas são características fisiológicas** -. A variável dependente é uma medida quantitativa da progressão da doença um ano após o início.\n"
   ]
  },
  {
   "cell_type": "markdown",
   "metadata": {},
   "source": [
    "<h2>2 Fundamentação Teórica </h2>"
   ]
  },
  {
   "cell_type": "markdown",
   "metadata": {},
   "source": [
    "A regressão linear é chamada \"linear\" porque se considera que a relação da resposta às variáveis é uma função linear de alguns parâmetros. Os modelos de regressão que não são uma função linear dos parâmetros se chamam modelos de regressão não-linear. Sendo uma das primeiras formas de análise regressiva a ser estudada rigorosamente, e usada extensamente em aplicações práticas. Isso acontece porque modelos que dependem de forma linear dos seus parâmetros desconhecidos, são mais fáceis de ajustar que os modelos não-lineares aos seus parâmetros, e porque as propriedades estatísticas dos estimadores resultantes são fáceis de determinar.\n",
    "\n",
    "Modelos de regressão linear são frequentemente ajustados usando a abordagem dos mínimos quadrados, mas que também pode ser montada de outras maneiras, tal como minimizando a *falta de ajuste* em alguma outra norma (com menos desvios absolutos de regressão), ou através da minimização de uma penalização da versão dos mínimos quadrados. Por outro lado, a abordagem de mínimos quadrados pode ser utilizado para ajustar a modelos que não são modelos lineares. Assim, embora os termos mínimos quadrados e modelo linear estejam intimamente ligados, eles não são sinônimos.\n",
    "\n",
    "- #### Equação da Regressão Linear\n",
    " $$y_i = \\alpha + \\beta X_i + \\epsilon_i$$\n",
    "\n",
    "em que:\n",
    "- $y_i$: Variável dependente, representa o que o modelo tentará prever,\n",
    "- $\\alpha$: É uma constante, que representa a intercptação da reta com o eixo - vertical;\n",
    "- $\\beta$: Representa o coeficiente angular(inclinação) em relação à variavél\n",
    "  $\\beta$\n",
    "- $X_i$; Variável independente\n",
    "- $\\epsilon_i$: Representa todos os fatores residuais mais os possíveis erros de medição. O seu comportamento é aleatório, d evido à natureza dos fatores que encerra. Para que essa fórmula possa ser aplicada, os erros devem satisfazer determinadas hipóteses, que são:\n",
    "    - Terem distribuição normal\n",
    "    - Mesma variância $\\sigma^2$\n",
    "    \n",
    "- #### Notação Matricial\n",
    "  \n",
    "A equação acima pode ser reescrita em forma matricial, como:\n",
    "\n",
    "$$y = X\\beta + \\epsilon$$\n",
    "\n",
    "Em que $y$ é uma matriz de  ${\\displaystyle n\\times 1}$ observações, X é uma matriz de tamanho ${\\displaystyle n\\times p+1}$ sendo a primeira coluna com valores sempre = 1, representando a constante $\\alpha$, e $p$ é a quantidade de variáveis explicativas), $\\beta$ é uma matriz de ${\\displaystyle p+1\\times 1}$ variáveis explicativas(sendo que $\\beta_0$ representa a constante $\\alpha$) e $\\epsilon$ é uma matriz de ${\\displaystyle n\\times 1}$ de resíduos.\n",
    "\n"
   ]
  },
  {
   "cell_type": "markdown",
   "metadata": {},
   "source": [
    "$$\\mathbf y = \\begin{bmatrix}\n",
    "y_1 \\\\ y_2 \\\\ \\vdots \\\\ y_n\n",
    "\\end{bmatrix} ,\n",
    "\\qquad \\mathbf {X}=\\begin{bmatrix}\n",
    "1 & X_{11} & X_{12} & \\cdots & X_{1p} \\\\\n",
    "1 & X_{21} & X_{22} & \\cdots & X_{2p} \\\\\n",
    "\\vdots & \\vdots & \\ddots & \\vdots \\\\\n",
    "1 & X_{n1} & X_{n2} & \\cdots & X_{np}\n",
    "\\end{bmatrix} ,\n",
    "\\qquad \\boldsymbol \\beta = \\begin{bmatrix}\n",
    "\\beta_0 \\\\ \\beta_1 \\\\ \\beta_2 \\\\ \\vdots \\\\ \\beta_p \\end{bmatrix} ,\n",
    "\\qquad \\boldsymbol \\varepsilon = \\begin{bmatrix}\n",
    "\\varepsilon_1 \\\\ \\varepsilon_2 \\\\ \\vdots \\\\ \\varepsilon_n \\end{bmatrix}\n",
    "$$"
   ]
  },
  {
   "cell_type": "code",
   "execution_count": null,
   "metadata": {},
   "outputs": [],
   "source": []
  }
 ],
 "metadata": {
  "kernelspec": {
   "display_name": "Python 3",
   "language": "python",
   "name": "python3"
  },
  "language_info": {
   "codemirror_mode": {
    "name": "ipython",
    "version": 3
   },
   "file_extension": ".py",
   "mimetype": "text/x-python",
   "name": "python",
   "nbconvert_exporter": "python",
   "pygments_lexer": "ipython3",
   "version": "3.7.3"
  }
 },
 "nbformat": 4,
 "nbformat_minor": 2
}
