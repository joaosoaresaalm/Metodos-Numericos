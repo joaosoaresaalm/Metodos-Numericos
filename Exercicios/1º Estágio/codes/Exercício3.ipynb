{
 "cells": [
  {
   "cell_type": "markdown",
   "metadata": {},
   "source": [
    "**Métodos Numéricos**\n",
    "\n",
    "**Aluno(a): João Victor Soares de Almeida**"
   ]
  },
  {
   "cell_type": "code",
   "execution_count": 6,
   "metadata": {},
   "outputs": [
    {
     "data": {
      "text/plain": [
       "'1.2.1'"
      ]
     },
     "execution_count": 6,
     "metadata": {},
     "output_type": "execute_result"
    }
   ],
   "source": [
    "import numpy as np\n",
    "import pandas as pd\n",
    "import scipy.optimize as opt\n",
    "import matplotlib.pyplot as plt\n",
    "import scipy\n",
    "scipy.__version__\n",
    "\n",
    "\n"
   ]
  },
  {
   "cell_type": "markdown",
   "metadata": {},
   "source": [
    "<h2> Atividade Extra </h2>"
   ]
  },
  {
   "cell_type": "markdown",
   "metadata": {},
   "source": [
    "**Método da Bisseção**"
   ]
  },
  {
   "cell_type": "code",
   "execution_count": null,
   "metadata": {},
   "outputs": [],
   "source": [
    "def a(x): return 2*x**4 + 4*x**3 + 3*x**2 - 10*x - 15 \n",
    "print(\"a(x):\",np.sign(a(0)*a(3)),\"\\n\",\"-\"*30,\"tem ao menos uma raíz\")\n",
    "\n",
    "def b(x): return (x + 3)*(x + 1)*(x -2)**3 \n",
    "print(\"b(x):\",np.sign(b(0)*b(5)),\"\\n\",\"-\"*30,\"tem ao menos uma raíz\")\n",
    "\n",
    "def c(x): return 5*x**3 + x**2 - np.exp(1 - 2*x) + np.cos(x) + 20 \n",
    "print(\"c(x):\",np.sign(c(-5)*c(5)),\"\\n\",\"-\"*30,\"tem ao menos uma raíz\")\n",
    "\n",
    "def d(x): return np.sin(x)*x + 4 \n",
    "print(\"d(x):\",np.sign(d(1)*d(5)),\"\\n\",\"-\"*30,\"tem ao menos uma raíz\")\n",
    "\n",
    "def e(x): return  (x - 3)**5 * np.log(x)\n",
    "print(\"e(x):\",np.sign(e(2)*e(5)),\"\\n\",\"-\"*30,\"tem ao menos uma raíz\")\n",
    "\n",
    "def f(x): return  x**10 - 1    \n",
    "print(\"f(x):\",np.sign(e(0.8)*e(1.2)),\"\\n\",\"-\"*30,\"tem ao menos uma raíz\")\n"
   ]
  },
  {
   "cell_type": "markdown",
   "metadata": {},
   "source": [
    "Acima verificamos se existe raizes de acordo com o método de Bolzano. Para isso, usaremos a função **sign** da biblioteca **numpy**, e obtivemos **x** < 0. Logo temos ao menos uma raiz"
   ]
  },
  {
   "cell_type": "code",
   "execution_count": null,
   "metadata": {},
   "outputs": [],
   "source": [
    "opt.root_scalar(a, method = 'bisect', bracket = [0,3], xtol = 1e-10, maxiter = 200)\n",
    "\n",
    "\n",
    "\n"
   ]
  },
  {
   "cell_type": "markdown",
   "metadata": {},
   "source": [
    "**Método do Ponto Fixo**"
   ]
  },
  {
   "cell_type": "code",
   "execution_count": null,
   "metadata": {
    "scrolled": true
   },
   "outputs": [],
   "source": [
    "def a(x): return (2*x**4 + 4*x**3 + 3*x**2 - 15)/10\n",
    "def b(x): return (x+3)*(x+1)*(x-2)**3 + x\n",
    "def c(x): return 5*x**3 + x**2 - np.exp(1 - 2*x) + np.cos(x) + 20 + x\n",
    "def d(x): return -4/np.sin(x)\n",
    "def e(x): return (x-3)**5 * np.log(x) + x\n",
    "def f(x): return (1)*0.1\n",
    "\n",
    "\n",
    "\n",
    "opt.fixed_point(a, 3,xtol = 1e-10,method='iteration', maxiter=200)\n",
    "opt.fixed_point(b, 5,xtol = 1e-10,method='iteration', maxiter = 200)\n",
    "\n",
    "opt.fixed_point(c, 5,xtol = 1e-10,method='iteration', maxiter = 200)\n",
    "\n",
    "opt.fixed_point(d, 5,xtol = 1e-10,method='iteration', maxiter = 200)\n",
    "opt.fixed_point(e, 5,xtol = 1e-10,method='iteration', maxiter = 200)\n",
    "opt.fixed_point(f, 1.2,xtol = 1e-10,method='iteration', maxiter = 200)\n"
   ]
  },
  {
   "cell_type": "markdown",
   "metadata": {
    "collapsed": true
   },
   "source": [
    "**Método de Newton**"
   ]
  },
  {
   "cell_type": "code",
   "execution_count": 137,
   "metadata": {},
   "outputs": [
    {
     "name": "stderr",
     "output_type": "stream",
     "text": [
      "C:\\Users\\joaos\\Anaconda1\\lib\\site-packages\\ipykernel_launcher.py:16: RuntimeWarning: divide by zero encountered in log\n",
      "  app.launch_new_instance()\n",
      "C:\\Users\\joaos\\Anaconda1\\lib\\site-packages\\ipykernel_launcher.py:16: RuntimeWarning: invalid value encountered in double_scalars\n",
      "  app.launch_new_instance()\n",
      "C:\\Users\\joaos\\Anaconda1\\lib\\site-packages\\ipykernel_launcher.py:15: RuntimeWarning: divide by zero encountered in log\n",
      "  from ipykernel import kernelapp as app\n"
     ]
    },
    {
     "data": {
      "text/plain": [
       "      converged: False\n",
       "           flag: 'convergence error'\n",
       " function_calls: 400\n",
       "     iterations: 200\n",
       "           root: nan"
      ]
     },
     "execution_count": 137,
     "metadata": {},
     "output_type": "execute_result"
    }
   ],
   "source": [
    "def a1(x): return 2*x**4 + 4*x**3 + 3*x**2 - 10*x - 15\n",
    "def a2(x): return 8*x**3 + 12*x**2 +6*x -10\n",
    "\n",
    "\n",
    "def b1(x): return (x + 3)*(x + 1)*(x -2)**3 \n",
    "def b2(x): return (x-2)**2 *(3*x+9)*(x-1) + (x-2)*(2*x+4)\n",
    "\n",
    "\n",
    "def c1(x): return 5*x**3 + x**2 - np.exp(1 - 2*x) + np.cos(x) + 20 \n",
    "def c2(x): return 15*x**2 + 2*x + 2*np.exp(1-2*x) - np.sin(x)\n",
    "\n",
    "def d1(x): return np.sin(x)*x + 4\n",
    "def d2(x): return x*np.cos(x) + np.sin(x)\n",
    "\n",
    "def e1(x): return (x - 3)**5 * np.log(x)\n",
    "def e2(x): return (x**5 - 15*x**4 - 270*x**2 + x**5 * np.log(x**5) -x**4 * np.log(x**60) + x**3 * np.log(x**270) - x**2 * np.log(x**405) + 405*x -243)/x*np.log(x)\n",
    "\n",
    "\n",
    "def f1(x): return x**10 - 1 \n",
    "def f2(x): return (1)*0.1\n",
    "\n",
    "opt.root_scalar(a1, fprime=a2, x0=0, method='newton', maxiter=200)\n",
    "opt.root_scalar(b1, fprime=b2, x0=0, method='newton', maxiter=200)\n",
    "opt.root_scalar(c1, fprime=c2, x0=0, method='newton', maxiter=200)\n",
    "opt.root_scalar(d1, fprime=e2, x0=0, method='newton',maxiter=200)\n",
    "opt.root_scalar(e1, fprime=e2, x0=0, method='newton',maxiter=200)\n",
    "opt.root_scalar(f1, fprime=e2, x0=0, method='newton',maxiter=200)\n",
    "\n"
   ]
  },
  {
   "cell_type": "markdown",
   "metadata": {},
   "source": [
    "**Método da Secante**"
   ]
  },
  {
   "cell_type": "code",
   "execution_count": null,
   "metadata": {},
   "outputs": [],
   "source": [
    "def a(x): return 2*x**4 + 4*x**3 + 3*x**2 - 10*x - 15 \n",
    "def b(x): return (x + 3)*(x + 1)*(x -2)**3 \n",
    "def c(x): return 5*x**3 + x**2 - np.exp(1 - 2*x) + np.cos(x) + 20 \n",
    "def d(x): return np.sin(x)*x + 4 \n",
    "def e(x): return  (x - 3)**5 * np.log(x)\n",
    "def f(x): return  x**10 - 1    \n",
    "\n",
    "opt.root_scalar(a, x0=3, x1 = 0, method='secant', maxiter=200)\n",
    "opt.root_scalar(b, x0=5, x1 = 0, method='secant', maxiter=200)\n",
    "opt.root_scalar(c, x0=5, x1 = -5, method='secant', maxiter=200)\n",
    "\n",
    "opt.root_scalar(d, x0=5, x1 = 1, method='secant', maxiter=200)\n",
    "opt.root_scalar(e, x0=2, x1 = 5, method='secant', maxiter=200)\n",
    "pt.root_scalar(f, x0=1.2, x1 = 0.8, method='secant', maxiter=200)\n",
    "\n",
    "\n",
    "\n"
   ]
  },
  {
   "cell_type": "code",
   "execution_count": null,
   "metadata": {},
   "outputs": [],
   "source": [
    "import pandas as pd\n",
    "print(\"-\"*75)\n",
    "print(\"Função a(x)\")\n",
    "data ={'Convergência':['Sim','Não','Sim','Sim'], 'Iterações' :[35,'-',6,11], 'Raiz': [1.4928,'inf',-1.3004,-1.3003], 'Tempo':['108 mcS','-','413 mcS','589 mcS'], 'E.C': ['Não','Sim','Não', 'Não']}\n",
    "df = pd.DataFrame(data, index=['Bisseção','Método Ponto Fixo','Método de Newton', 'Método da Secante'])\n",
    "print (df)\n",
    "\n",
    "\n",
    "print(\"-\"*75)\n",
    "print(\"Função b(x)\")\n",
    "data ={'Convergência':['Sim','Não','Sim','Sim'], 'Iterações' :[36,'-',28,60], 'Raiz': [2.0000,'inf',-0.9999,-1.3003], 'Tempo':['67 mcS','-',' 1.45 mS','3.13 mS'], 'E.C': ['Não','Sim','Não', 'Não']}\n",
    "df = pd.DataFrame(data, index=['Bisseção','Método do Ponto Fixo','Método de Newton', 'Método da Secante'])\n",
    "print (df)\n",
    "\n",
    "print(\"-\"*75)\n",
    "print(\"Função c(x)\")\n",
    "data ={'Convergência':['Sim','Não','Sim','Sim'], 'Iterações' :[37,'-',11,23], 'Raiz': [-0.9295,'inf',-0.9295,-0.9295], 'Tempo':['312 mcS','-',' 922 mcS','1.64 mS'], 'E.C': ['Não','Sim','Não', 'Não']}\n",
    "df = pd.DataFrame(data, index=['Bisseção','Método do Ponto Fixo','Método de Newton', 'Método da Secante'])\n",
    "print (df)\n",
    "\n",
    "print(\"-\"*75)\n",
    "print(\"Função d(x)\")\n",
    "data ={'Convergência':['Sim','Não','Não','Sim'], 'Iterações' :[36,'-',200,7], 'Raiz': [4.3232,'inf','NaN',4.3232], 'Tempo':['139 mcS','-',' RuntimeWarning','515 mcS'], 'E.C': ['Não','Sim','Sim', 'Não']}\n",
    "df = pd.DataFrame(data, index=['Bisseção','Método do Ponto Fixo','Método de Newton', 'Método da Secante'])\n",
    "print (df)\n",
    "\n",
    "print(\"-\"*75)\n",
    "print(\"Função e(x)\")\n",
    "data ={'Convergência':['Sim','Não','Não','Sim'], 'Iterações' :[1,'-',200,10], 'Raiz': [3.0000,'inf','NaN',0.9999], 'Tempo':['167 mcS','-',' RuntimeWarning','4.49 mS'], 'E.C': ['Não','Sim','Sim', 'Não']}\n",
    "df = pd.DataFrame(data, index=['Bisseção','Método do Ponto Fixo','Método de Newton', 'Método da Secante'])\n",
    "print (df)\n",
    "\n",
    "print(\"-\"*75)\n",
    "print(\"Função f(x)\")\n",
    "data ={'Convergência':['Sim','Não','Não','Sim'], 'Iterações' :[35,'-',200,106], 'Raiz': [3.0000,'inf','NaN',2.9999], 'Tempo':['167 mcS','-',' RuntimeWarning','525 mcS'], 'E.C': ['Não','Sim','Sim', 'Não']}\n",
    "df = pd.DataFrame(data, index=['Bisseção','Método do Ponto Fixo','Método de Newton', 'Método da Secante'])\n",
    "print (df)\n"
   ]
  },
  {
   "cell_type": "markdown",
   "metadata": {},
   "source": [
    "<h3> Cap. 5 <h3>\n"
   ]
  },
  {
   "cell_type": "markdown",
   "metadata": {},
   "source": [
    "<h2> 5.1 <h2>    "
   ]
  },
  {
   "cell_type": "code",
   "execution_count": null,
   "metadata": {},
   "outputs": [],
   "source": []
  },
  {
   "cell_type": "code",
   "execution_count": null,
   "metadata": {},
   "outputs": [],
   "source": [
    "v = 36\n",
    "t = 4\n",
    "m = 80\n",
    "g = 9.81\n",
    "\n",
    "def quedaLivre(k): return np.sqrt(g*m/k) * np.tanh(np.sqrt(g*k/m)*t) - v\n",
    "\n",
    "\n",
    "\n",
    "\n",
    "opt.root_scalar(quedaLivre, method = 'bisect', bracket = [0.1,0.2], xtol = 2e-2).root\n"
   ]
  },
  {
   "cell_type": "markdown",
   "metadata": {},
   "source": [
    "**5.2**"
   ]
  },
  {
   "cell_type": "code",
   "execution_count": null,
   "metadata": {},
   "outputs": [],
   "source": [
    "def funcaoBissect(x_i, x, E_a): \n",
    "    \n",
    "    if(quedaLivre(x_i)*quedaLivre(x)< 0):\n",
    "        \n",
    "        return np.ceil(np.log2((x_i - x)/E_a))\n",
    "    \n",
    "    else:\n",
    "        print(\"A função não tem raíz para esses valores!\")\n",
    "\n",
    "funcaoBissect(0.2,0.1, 0.001)\n",
    "        \n",
    "        \n",
    "    \n",
    "    \n"
   ]
  },
  {
   "cell_type": "markdown",
   "metadata": {},
   "source": [
    "**5.6**"
   ]
  },
  {
   "cell_type": "code",
   "execution_count": 7,
   "metadata": {},
   "outputs": [
    {
     "data": {
      "text/plain": [
       "[<matplotlib.lines.Line2D at 0x232a7750d30>]"
      ]
     },
     "execution_count": 7,
     "metadata": {},
     "output_type": "execute_result"
    },
    {
     "data": {
      "image/png": "[encoded data removed]",
      "text/plain": [
       "<Figure size 432x288 with 1 Axes>"
      ]
     },
     "metadata": {
      "needs_background": "light"
     },
     "output_type": "display_data"
    }
   ],
   "source": [
    "def f(x): return np.sin(x) - x**2\n",
    "\n",
    "opt.root_scalar(f, method = 'bisect', bracket = [0.5,1], xtol=2e-2).root\n",
    "\n",
    "\n",
    "x = np.linspace(-3, 3, 200)\n",
    "y = f(x)\n",
    "plt.grid(True)\n",
    "plt.plot(x, y)"
   ]
  },
  {
   "cell_type": "markdown",
   "metadata": {},
   "source": [
    "**5.8**"
   ]
  },
  {
   "cell_type": "code",
   "execution_count": null,
   "metadata": {},
   "outputs": [],
   "source": [
    "def saturacao(T_a): return -139.34411 + (1.576701 * 10**5)/T_a - (6.642308 * 10**7)/T_a + (1.243800*  10**10)/T_a - (8.621949*10**11)/T_a \n",
    "\n",
    "\n",
    "\n",
    "\n",
    "\n",
    "\n",
    "\n",
    "  \n",
    "\n",
    "        \n",
    "\n",
    "    "
   ]
  },
  {
   "cell_type": "code",
   "execution_count": null,
   "metadata": {},
   "outputs": [],
   "source": []
  },
  {
   "cell_type": "markdown",
   "metadata": {},
   "source": [
    "**5.14**"
   ]
  },
  {
   "cell_type": "code",
   "execution_count": 104,
   "metadata": {},
   "outputs": [
    {
     "data": {
      "text/plain": [
       "0.153477783203125"
      ]
     },
     "execution_count": 104,
     "metadata": {},
     "output_type": "execute_result"
    }
   ],
   "source": [
    "def taxaJuro(i): return 35000 * ((i*(1 + i)**7)/((1 + i)**7 -1)) - 8500\n",
    "    \n",
    "\n",
    "opt.root_scalar(taxaJuro, method = 'bisect', bracket = [0.01,0.3], xtol=5e-5).root\n",
    "\n"
   ]
  },
  {
   "cell_type": "markdown",
   "metadata": {},
   "source": [
    "**5.15**"
   ]
  },
  {
   "cell_type": "code",
   "execution_count": 8,
   "metadata": {},
   "outputs": [],
   "source": [
    "def Pu(t, p_u_max, p_u_min, k_u):\n",
    "    return p_u_max * np.exp(-k_u*t) + p_u_min\n",
    "\n",
    "\n",
    "def Ps(t, p_s_max, p_inicial, k_s):\n",
    "    return p_s_max / (1 + (p_s_max/p_inicial - 1) * np.exp(-k_s*t))"
   ]
  },
  {
   "cell_type": "code",
   "execution_count": 9,
   "metadata": {},
   "outputs": [],
   "source": [
    "P_sMax = 320000\n",
    "P_uMax = 80000\n",
    "P_uMin = 110000\n",
    "Pi = 10000\n",
    "Ku = 0.05\n",
    "Ks = 0.09\n",
    "vet = np.linspace(0, 50, 200)"
   ]
  },
  {
   "cell_type": "code",
   "execution_count": 16,
   "metadata": {},
   "outputs": [
    {
     "data": {
      "text/plain": [
       "[<matplotlib.lines.Line2D at 0x232a8c31d30>]"
      ]
     },
     "execution_count": 16,
     "metadata": {},
     "output_type": "execute_result"
    },
    {
     "data": {
      "image/png": "[encoded data removed]",
      "text/plain": [
       "<Figure size 432x288 with 1 Axes>"
      ]
     },
     "metadata": {
      "needs_background": "light"
     },
     "output_type": "display_data"
    }
   ],
   "source": [
    "temp = 0\n",
    "\n",
    "while True:\n",
    "    areaUrbana = Pu(vet[temp], P_uMax, P_uMin, Ku)\n",
    "    areaSubUrbana = Ps(vet[temp], P_sMax, Pi, Ks)\n",
    "    if(areaSubUrbana > (areaUrbana + (0.2 * areaUrbana))):\n",
    "        t = vet[temp]\n",
    "        break\n",
    "    temp += 1\n",
    "    \n",
    "    \n",
    "    \n",
    "vetorTempo = np.linspace(0, t, 500)\n",
    "\n",
    "plt.grid(True)\n",
    "plt.title(\"Diminuição e Crescimento da população na área urbana\")\n",
    "plt.ylabel(\"População(t)\")\n",
    "plt.xlabel(\"t\")\n",
    "plt.plot(vetorTempo, Pu(vetorTempo, P_uMax, P_uMin, Ku))\n",
    "plt.plot(vetorTempo, Ps(vetorTempo, P_sMax, Pi, Ks))\n",
    "\n"
   ]
  },
  {
   "cell_type": "markdown",
   "metadata": {},
   "source": [
    "**5.16**"
   ]
  },
  {
   "cell_type": "code",
   "execution_count": 106,
   "metadata": {},
   "outputs": [
    {
     "data": {
      "text/plain": [
       "0.0"
      ]
     },
     "execution_count": 106,
     "metadata": {},
     "output_type": "execute_result"
    }
   ],
   "source": [
    "\n",
    "      \n",
    "def dados(N): return 1/(1.7 * 10**-19*1/2*(N + np.sqrt(N**2 + 4*(6.21 * 10**9)**2)*mi) - 6.5 * 10**6)\n",
    "\n",
    "\n",
    "opt.root_scalar(f, method = 'bisect', bracket = [0,2.5*10**10], xtol=1e10).root\n"
   ]
  },
  {
   "cell_type": "markdown",
   "metadata": {},
   "source": [
    "**5.18**"
   ]
  },
  {
   "cell_type": "code",
   "execution_count": 17,
   "metadata": {},
   "outputs": [
    {
     "data": {
      "text/plain": [
       "0.002911621093749999"
      ]
     },
     "execution_count": 17,
     "metadata": {},
     "output_type": "execute_result"
    }
   ],
   "source": [
    "re = 1e6\n",
    "\n",
    "def vonKarman(f):\n",
    "    return -(1/np.sqrt(f)) + (4*np.log10(re*np.sqrt(f))) - 0.4\n",
    "\n",
    "\n",
    "\n",
    "opt.root_scalar(vonKarman, method='bisect', bracket=[1e-2, 1e-3], xtol=5e-6).root"
   ]
  },
  {
   "cell_type": "markdown",
   "metadata": {},
   "source": [
    "**5.22**"
   ]
  },
  {
   "cell_type": "code",
   "execution_count": 9,
   "metadata": {},
   "outputs": [
    {
     "ename": "TypeError",
     "evalue": "root_scalar() got an unexpected keyword argument 'full_output'",
     "output_type": "error",
     "traceback": [
      "\u001b[1;31m---------------------------------------------------------------------------\u001b[0m",
      "\u001b[1;31mTypeError\u001b[0m                                 Traceback (most recent call last)",
      "\u001b[1;32m<ipython-input-9-c61a041ac459>\u001b[0m in \u001b[0;36m<module>\u001b[1;34m\u001b[0m\n\u001b[0;32m      4\u001b[0m \u001b[1;33m\u001b[0m\u001b[0m\n\u001b[0;32m      5\u001b[0m \u001b[1;33m\u001b[0m\u001b[0m\n\u001b[1;32m----> 6\u001b[1;33m \u001b[0mopt\u001b[0m\u001b[1;33m.\u001b[0m\u001b[0mroot_scalar\u001b[0m\u001b[1;33m(\u001b[0m\u001b[0mvolumeEsfera\u001b[0m\u001b[1;33m,\u001b[0m \u001b[0mmethod\u001b[0m \u001b[1;33m=\u001b[0m \u001b[1;34m'bisect'\u001b[0m\u001b[1;33m,\u001b[0m \u001b[0mbracket\u001b[0m \u001b[1;33m=\u001b[0m \u001b[1;33m[\u001b[0m\u001b[1;36m0\u001b[0m\u001b[1;33m,\u001b[0m\u001b[1;36m5\u001b[0m\u001b[1;33m]\u001b[0m\u001b[1;33m,\u001b[0m \u001b[0mfull_output\u001b[0m \u001b[1;33m=\u001b[0m \u001b[1;32mTrue\u001b[0m\u001b[1;33m)\u001b[0m\u001b[1;33m.\u001b[0m\u001b[0mroot\u001b[0m\u001b[1;33m\u001b[0m\u001b[1;33m\u001b[0m\u001b[0m\n\u001b[0m",
      "\u001b[1;31mTypeError\u001b[0m: root_scalar() got an unexpected keyword argument 'full_output'"
     ]
    }
   ],
   "source": [
    "r = 1\n",
    "def volumeEsfera(h): return (3.2*r**3 - h**2*(3*r - h))\n",
    "\n",
    "\n",
    "\n",
    "opt.root_scalar(volumeEsfera, method = 'bisect', bracket = [0,5], full_output = True).root"
   ]
  },
  {
   "cell_type": "markdown",
   "metadata": {},
   "source": [
    "**6.1**"
   ]
  },
  {
   "cell_type": "code",
   "execution_count": 108,
   "metadata": {},
   "outputs": [
    {
     "data": {
      "text/plain": [
       "0.7686062313130103"
      ]
     },
     "execution_count": 108,
     "metadata": {},
     "output_type": "execute_result"
    }
   ],
   "source": [
    "def f(x): return np.sin(np.sqrt(x)) \n",
    "\n",
    "\n",
    "\n",
    "opt.fixed_point(f, 0.5,xtol = 1e-4,method='iteration')"
   ]
  },
  {
   "cell_type": "markdown",
   "metadata": {},
   "source": [
    "**6.2**"
   ]
  },
  {
   "cell_type": "code",
   "execution_count": 114,
   "metadata": {},
   "outputs": [
    {
     "data": {
      "text/plain": [
       "      converged: False\n",
       "           flag: 'convergence error'\n",
       " function_calls: 100\n",
       "     iterations: 50\n",
       "           root: -49.5"
      ]
     },
     "execution_count": 114,
     "metadata": {},
     "output_type": "execute_result"
    }
   ],
   "source": [
    "def f(x): return -0.9*x**2 + 2.5 + 1.7*x\n",
    "\n",
    "def f1(x): return -1.05882352*x\n",
    "\n",
    "opt.fixed_point(f, 0.5, xtol= 1e-4, method ='iteration')\n",
    "opt.root_scalar(f1, fprime=f1, x0=0.5, method='newton')"
   ]
  },
  {
   "cell_type": "markdown",
   "metadata": {},
   "source": [
    "Comentário: \n",
    "\n",
    "Para o método do ponto fixo, há erro de convergência depois de 500 iterações, logo o resultado é (-infinito);\n",
    "\n",
    "Para o método de Newton, há erro de convergência depois de 50 iterações, e a sua raiz é de -49.5\n",
    "\n"
   ]
  },
  {
   "cell_type": "code",
   "execution_count": 134,
   "metadata": {},
   "outputs": [],
   "source": [
    "def g(x): return np.tanh(x**2 - 9) + x\n",
    "\n",
    "def g1(x): return 2*x*np.sech**2(x**2 - 9)\n",
    "\n",
    "\n"
   ]
  },
  {
   "cell_type": "code",
   "execution_count": 133,
   "metadata": {},
   "outputs": [
    {
     "ename": "RuntimeError",
     "evalue": "Failed to converge after 3 iterations, value is -376.5049630047423",
     "output_type": "error",
     "traceback": [
      "\u001b[1;31m---------------------------------------------------------------------------\u001b[0m",
      "\u001b[1;31mRuntimeError\u001b[0m                              Traceback (most recent call last)",
      "\u001b[1;32m<ipython-input-133-5e9cce0e0588>\u001b[0m in \u001b[0;36m<module>\u001b[1;34m\u001b[0m\n\u001b[1;32m----> 1\u001b[1;33m \u001b[0mopt\u001b[0m\u001b[1;33m.\u001b[0m\u001b[0mfixed_point\u001b[0m\u001b[1;33m(\u001b[0m\u001b[0mf\u001b[0m\u001b[1;33m,\u001b[0m \u001b[1;36m3.2\u001b[0m\u001b[1;33m,\u001b[0m\u001b[0mmethod\u001b[0m \u001b[1;33m=\u001b[0m\u001b[1;34m'iteration'\u001b[0m\u001b[1;33m,\u001b[0m \u001b[0mmaxiter\u001b[0m\u001b[1;33m=\u001b[0m\u001b[1;36m3\u001b[0m\u001b[1;33m)\u001b[0m\u001b[1;33m\u001b[0m\u001b[1;33m\u001b[0m\u001b[0m\n\u001b[0m\u001b[0;32m      2\u001b[0m \u001b[0mopt\u001b[0m\u001b[1;33m.\u001b[0m\u001b[0mroot_scalar\u001b[0m\u001b[1;33m(\u001b[0m\u001b[0mf1\u001b[0m\u001b[1;33m,\u001b[0m \u001b[0mfprime\u001b[0m\u001b[1;33m=\u001b[0m\u001b[0mf1\u001b[0m\u001b[1;33m,\u001b[0m \u001b[0mx0\u001b[0m\u001b[1;33m=\u001b[0m\u001b[1;36m3.2\u001b[0m\u001b[1;33m,\u001b[0m \u001b[0mmethod\u001b[0m\u001b[1;33m=\u001b[0m\u001b[1;34m'newton'\u001b[0m\u001b[1;33m,\u001b[0m \u001b[0mmaxiter\u001b[0m\u001b[1;33m=\u001b[0m\u001b[1;36m3\u001b[0m\u001b[1;33m)\u001b[0m\u001b[1;33m\u001b[0m\u001b[1;33m\u001b[0m\u001b[0m\n",
      "\u001b[1;32m~\\Anaconda1\\lib\\site-packages\\scipy\\optimize\\minpack.py\u001b[0m in \u001b[0;36mfixed_point\u001b[1;34m(func, x0, args, xtol, maxiter, method)\u001b[0m\n\u001b[0;32m    893\u001b[0m     \u001b[0muse_accel\u001b[0m \u001b[1;33m=\u001b[0m \u001b[1;33m{\u001b[0m\u001b[1;34m'del2'\u001b[0m\u001b[1;33m:\u001b[0m \u001b[1;32mTrue\u001b[0m\u001b[1;33m,\u001b[0m \u001b[1;34m'iteration'\u001b[0m\u001b[1;33m:\u001b[0m \u001b[1;32mFalse\u001b[0m\u001b[1;33m}\u001b[0m\u001b[1;33m[\u001b[0m\u001b[0mmethod\u001b[0m\u001b[1;33m]\u001b[0m\u001b[1;33m\u001b[0m\u001b[1;33m\u001b[0m\u001b[0m\n\u001b[0;32m    894\u001b[0m     \u001b[0mx0\u001b[0m \u001b[1;33m=\u001b[0m \u001b[0m_asarray_validated\u001b[0m\u001b[1;33m(\u001b[0m\u001b[0mx0\u001b[0m\u001b[1;33m,\u001b[0m \u001b[0mas_inexact\u001b[0m\u001b[1;33m=\u001b[0m\u001b[1;32mTrue\u001b[0m\u001b[1;33m)\u001b[0m\u001b[1;33m\u001b[0m\u001b[1;33m\u001b[0m\u001b[0m\n\u001b[1;32m--> 895\u001b[1;33m     \u001b[1;32mreturn\u001b[0m \u001b[0m_fixed_point_helper\u001b[0m\u001b[1;33m(\u001b[0m\u001b[0mfunc\u001b[0m\u001b[1;33m,\u001b[0m \u001b[0mx0\u001b[0m\u001b[1;33m,\u001b[0m \u001b[0margs\u001b[0m\u001b[1;33m,\u001b[0m \u001b[0mxtol\u001b[0m\u001b[1;33m,\u001b[0m \u001b[0mmaxiter\u001b[0m\u001b[1;33m,\u001b[0m \u001b[0muse_accel\u001b[0m\u001b[1;33m)\u001b[0m\u001b[1;33m\u001b[0m\u001b[1;33m\u001b[0m\u001b[0m\n\u001b[0m",
      "\u001b[1;32m~\\Anaconda1\\lib\\site-packages\\scipy\\optimize\\minpack.py\u001b[0m in \u001b[0;36m_fixed_point_helper\u001b[1;34m(func, x0, args, xtol, maxiter, use_accel)\u001b[0m\n\u001b[0;32m    847\u001b[0m         \u001b[0mp0\u001b[0m \u001b[1;33m=\u001b[0m \u001b[0mp\u001b[0m\u001b[1;33m\u001b[0m\u001b[1;33m\u001b[0m\u001b[0m\n\u001b[0;32m    848\u001b[0m     \u001b[0mmsg\u001b[0m \u001b[1;33m=\u001b[0m \u001b[1;34m\"Failed to converge after %d iterations, value is %s\"\u001b[0m \u001b[1;33m%\u001b[0m \u001b[1;33m(\u001b[0m\u001b[0mmaxiter\u001b[0m\u001b[1;33m,\u001b[0m \u001b[0mp\u001b[0m\u001b[1;33m)\u001b[0m\u001b[1;33m\u001b[0m\u001b[1;33m\u001b[0m\u001b[0m\n\u001b[1;32m--> 849\u001b[1;33m     \u001b[1;32mraise\u001b[0m \u001b[0mRuntimeError\u001b[0m\u001b[1;33m(\u001b[0m\u001b[0mmsg\u001b[0m\u001b[1;33m)\u001b[0m\u001b[1;33m\u001b[0m\u001b[1;33m\u001b[0m\u001b[0m\n\u001b[0m\u001b[0;32m    850\u001b[0m \u001b[1;33m\u001b[0m\u001b[0m\n\u001b[0;32m    851\u001b[0m \u001b[1;33m\u001b[0m\u001b[0m\n",
      "\u001b[1;31mRuntimeError\u001b[0m: Failed to converge after 3 iterations, value is -376.5049630047423"
     ]
    }
   ],
   "source": [
    "opt.fixed_point(f, 3.2,method ='iteration', maxiter=3)\n",
    "opt.root_scalar(f1, fprime=f1, x0=3.2, method='newton', maxiter=3)"
   ]
  },
  {
   "cell_type": "markdown",
   "metadata": {},
   "source": [
    "**6.13**"
   ]
  },
  {
   "cell_type": "code",
   "execution_count": 11,
   "metadata": {},
   "outputs": [
    {
     "data": {
      "text/plain": [
       "5.948713345267522e-05"
      ]
     },
     "execution_count": 11,
     "metadata": {},
     "output_type": "execute_result"
    }
   ],
   "source": [
    "def calorEspecifico(T): return (0.99403 - 9.7215 * 10**-8*T + 9.5838*10**-11*T - 1.9520*10**-14)/1.671*10**-4\n",
    "def derivadaCalor(T): (0.99403 - 9.7215 * 10**-8*T + 9.5838*10**-11*T - 1.9520*10**-14)/1.671*10**-4\n",
    "\n",
    "opt.fixed_point(calorEspecifico, 0,method ='iteration', maxiter=3)\n",
    "opt.root_scalar(f1, fprime=derivadaCalor, x0=3.2, method='newton', maxiter=3)"
   ]
  },
  {
   "cell_type": "markdown",
   "metadata": {},
   "source": [
    "**6.16**"
   ]
  },
  {
   "cell_type": "code",
   "execution_count": 15,
   "metadata": {},
   "outputs": [
    {
     "ename": "KeyError",
     "evalue": "'root'",
     "output_type": "error",
     "traceback": [
      "\u001b[1;31m---------------------------------------------------------------------------\u001b[0m",
      "\u001b[1;31mKeyError\u001b[0m                                  Traceback (most recent call last)",
      "\u001b[1;32m<ipython-input-15-73d28360d6ce>\u001b[0m in \u001b[0;36m<module>\u001b[1;34m\u001b[0m\n\u001b[0;32m      5\u001b[0m \u001b[1;33m\u001b[0m\u001b[0m\n\u001b[0;32m      6\u001b[0m \u001b[1;33m\u001b[0m\u001b[0m\n\u001b[1;32m----> 7\u001b[1;33m \u001b[0mopt\u001b[0m\u001b[1;33m.\u001b[0m\u001b[0mfixed_point\u001b[0m\u001b[1;33m(\u001b[0m\u001b[0mvolume\u001b[0m\u001b[1;33m,\u001b[0m \u001b[1;36m0\u001b[0m\u001b[1;33m,\u001b[0m\u001b[0mmethod\u001b[0m \u001b[1;33m=\u001b[0m\u001b[1;34m'root'\u001b[0m\u001b[1;33m,\u001b[0m \u001b[0mmaxiter\u001b[0m\u001b[1;33m=\u001b[0m\u001b[1;36m5\u001b[0m\u001b[1;33m)\u001b[0m\u001b[1;33m\u001b[0m\u001b[1;33m\u001b[0m\u001b[0m\n\u001b[0m",
      "\u001b[1;32m~\\Anaconda1\\lib\\site-packages\\scipy\\optimize\\minpack.py\u001b[0m in \u001b[0;36mfixed_point\u001b[1;34m(func, x0, args, xtol, maxiter, method)\u001b[0m\n\u001b[0;32m    891\u001b[0m \u001b[1;33m\u001b[0m\u001b[0m\n\u001b[0;32m    892\u001b[0m     \"\"\"\n\u001b[1;32m--> 893\u001b[1;33m     \u001b[0muse_accel\u001b[0m \u001b[1;33m=\u001b[0m \u001b[1;33m{\u001b[0m\u001b[1;34m'del2'\u001b[0m\u001b[1;33m:\u001b[0m \u001b[1;32mTrue\u001b[0m\u001b[1;33m,\u001b[0m \u001b[1;34m'iteration'\u001b[0m\u001b[1;33m:\u001b[0m \u001b[1;32mFalse\u001b[0m\u001b[1;33m}\u001b[0m\u001b[1;33m[\u001b[0m\u001b[0mmethod\u001b[0m\u001b[1;33m]\u001b[0m\u001b[1;33m\u001b[0m\u001b[1;33m\u001b[0m\u001b[0m\n\u001b[0m\u001b[0;32m    894\u001b[0m     \u001b[0mx0\u001b[0m \u001b[1;33m=\u001b[0m \u001b[0m_asarray_validated\u001b[0m\u001b[1;33m(\u001b[0m\u001b[0mx0\u001b[0m\u001b[1;33m,\u001b[0m \u001b[0mas_inexact\u001b[0m\u001b[1;33m=\u001b[0m\u001b[1;32mTrue\u001b[0m\u001b[1;33m)\u001b[0m\u001b[1;33m\u001b[0m\u001b[1;33m\u001b[0m\u001b[0m\n\u001b[0;32m    895\u001b[0m     \u001b[1;32mreturn\u001b[0m \u001b[0m_fixed_point_helper\u001b[0m\u001b[1;33m(\u001b[0m\u001b[0mfunc\u001b[0m\u001b[1;33m,\u001b[0m \u001b[0mx0\u001b[0m\u001b[1;33m,\u001b[0m \u001b[0margs\u001b[0m\u001b[1;33m,\u001b[0m \u001b[0mxtol\u001b[0m\u001b[1;33m,\u001b[0m \u001b[0mmaxiter\u001b[0m\u001b[1;33m,\u001b[0m \u001b[0muse_accel\u001b[0m\u001b[1;33m)\u001b[0m\u001b[1;33m\u001b[0m\u001b[1;33m\u001b[0m\u001b[0m\n",
      "\u001b[1;31mKeyError\u001b[0m: 'root'"
     ]
    }
   ],
   "source": [
    "v = 8\n",
    "r = 2\n",
    "L = 5\n",
    "def volume(h): return (r**2*np.arccos((r - h)/r) - (r - h)*np.sqrt(2*r*h - h**2)*L - v)\n",
    "\n",
    "\n",
    "opt.fixed_point(volume, 0,method ='iteration', maxiter=5)\n"
   ]
  },
  {
   "cell_type": "markdown",
   "metadata": {},
   "source": [
    "**6.18**"
   ]
  },
  {
   "cell_type": "code",
   "execution_count": 17,
   "metadata": {},
   "outputs": [
    {
     "ename": "RuntimeError",
     "evalue": "Failed to converge after 5 iterations, value is -6.8226421067648655",
     "output_type": "error",
     "traceback": [
      "\u001b[1;31m---------------------------------------------------------------------------\u001b[0m",
      "\u001b[1;31mRuntimeError\u001b[0m                              Traceback (most recent call last)",
      "\u001b[1;32m<ipython-input-17-aaaa9e66e1f1>\u001b[0m in \u001b[0;36m<module>\u001b[1;34m\u001b[0m\n\u001b[0;32m      3\u001b[0m \u001b[1;32mdef\u001b[0m \u001b[0mcorrente\u001b[0m\u001b[1;33m(\u001b[0m\u001b[0mt\u001b[0m\u001b[1;33m)\u001b[0m\u001b[1;33m:\u001b[0m \u001b[1;32mreturn\u001b[0m \u001b[1;36m9\u001b[0m\u001b[1;33m*\u001b[0m\u001b[0mnp\u001b[0m\u001b[1;33m.\u001b[0m\u001b[0mexp\u001b[0m\u001b[1;33m(\u001b[0m\u001b[1;33m-\u001b[0m\u001b[0mt\u001b[0m\u001b[1;33m)\u001b[0m\u001b[1;33m*\u001b[0m\u001b[0mnp\u001b[0m\u001b[1;33m.\u001b[0m\u001b[0msin\u001b[0m\u001b[1;33m(\u001b[0m\u001b[1;36m2\u001b[0m\u001b[1;33m*\u001b[0m\u001b[0mpi\u001b[0m\u001b[1;33m*\u001b[0m\u001b[0mt\u001b[0m\u001b[1;33m)\u001b[0m \u001b[1;33m-\u001b[0m \u001b[0mI\u001b[0m\u001b[1;33m\u001b[0m\u001b[1;33m\u001b[0m\u001b[0m\n\u001b[0;32m      4\u001b[0m \u001b[1;33m\u001b[0m\u001b[0m\n\u001b[1;32m----> 5\u001b[1;33m \u001b[0mopt\u001b[0m\u001b[1;33m.\u001b[0m\u001b[0mfixed_point\u001b[0m\u001b[1;33m(\u001b[0m\u001b[0mcorrente\u001b[0m\u001b[1;33m,\u001b[0m \u001b[1;36m0\u001b[0m\u001b[1;33m,\u001b[0m\u001b[0mmethod\u001b[0m \u001b[1;33m=\u001b[0m\u001b[1;34m'iteration'\u001b[0m\u001b[1;33m,\u001b[0m \u001b[0mmaxiter\u001b[0m\u001b[1;33m=\u001b[0m\u001b[1;36m5\u001b[0m\u001b[1;33m)\u001b[0m\u001b[1;33m\u001b[0m\u001b[1;33m\u001b[0m\u001b[0m\n\u001b[0m",
      "\u001b[1;32m~\\Anaconda1\\lib\\site-packages\\scipy\\optimize\\minpack.py\u001b[0m in \u001b[0;36mfixed_point\u001b[1;34m(func, x0, args, xtol, maxiter, method)\u001b[0m\n\u001b[0;32m    893\u001b[0m     \u001b[0muse_accel\u001b[0m \u001b[1;33m=\u001b[0m \u001b[1;33m{\u001b[0m\u001b[1;34m'del2'\u001b[0m\u001b[1;33m:\u001b[0m \u001b[1;32mTrue\u001b[0m\u001b[1;33m,\u001b[0m \u001b[1;34m'iteration'\u001b[0m\u001b[1;33m:\u001b[0m \u001b[1;32mFalse\u001b[0m\u001b[1;33m}\u001b[0m\u001b[1;33m[\u001b[0m\u001b[0mmethod\u001b[0m\u001b[1;33m]\u001b[0m\u001b[1;33m\u001b[0m\u001b[1;33m\u001b[0m\u001b[0m\n\u001b[0;32m    894\u001b[0m     \u001b[0mx0\u001b[0m \u001b[1;33m=\u001b[0m \u001b[0m_asarray_validated\u001b[0m\u001b[1;33m(\u001b[0m\u001b[0mx0\u001b[0m\u001b[1;33m,\u001b[0m \u001b[0mas_inexact\u001b[0m\u001b[1;33m=\u001b[0m\u001b[1;32mTrue\u001b[0m\u001b[1;33m)\u001b[0m\u001b[1;33m\u001b[0m\u001b[1;33m\u001b[0m\u001b[0m\n\u001b[1;32m--> 895\u001b[1;33m     \u001b[1;32mreturn\u001b[0m \u001b[0m_fixed_point_helper\u001b[0m\u001b[1;33m(\u001b[0m\u001b[0mfunc\u001b[0m\u001b[1;33m,\u001b[0m \u001b[0mx0\u001b[0m\u001b[1;33m,\u001b[0m \u001b[0margs\u001b[0m\u001b[1;33m,\u001b[0m \u001b[0mxtol\u001b[0m\u001b[1;33m,\u001b[0m \u001b[0mmaxiter\u001b[0m\u001b[1;33m,\u001b[0m \u001b[0muse_accel\u001b[0m\u001b[1;33m)\u001b[0m\u001b[1;33m\u001b[0m\u001b[1;33m\u001b[0m\u001b[0m\n\u001b[0m",
      "\u001b[1;32m~\\Anaconda1\\lib\\site-packages\\scipy\\optimize\\minpack.py\u001b[0m in \u001b[0;36m_fixed_point_helper\u001b[1;34m(func, x0, args, xtol, maxiter, use_accel)\u001b[0m\n\u001b[0;32m    847\u001b[0m         \u001b[0mp0\u001b[0m \u001b[1;33m=\u001b[0m \u001b[0mp\u001b[0m\u001b[1;33m\u001b[0m\u001b[1;33m\u001b[0m\u001b[0m\n\u001b[0;32m    848\u001b[0m     \u001b[0mmsg\u001b[0m \u001b[1;33m=\u001b[0m \u001b[1;34m\"Failed to converge after %d iterations, value is %s\"\u001b[0m \u001b[1;33m%\u001b[0m \u001b[1;33m(\u001b[0m\u001b[0mmaxiter\u001b[0m\u001b[1;33m,\u001b[0m \u001b[0mp\u001b[0m\u001b[1;33m)\u001b[0m\u001b[1;33m\u001b[0m\u001b[1;33m\u001b[0m\u001b[0m\n\u001b[1;32m--> 849\u001b[1;33m     \u001b[1;32mraise\u001b[0m \u001b[0mRuntimeError\u001b[0m\u001b[1;33m(\u001b[0m\u001b[0mmsg\u001b[0m\u001b[1;33m)\u001b[0m\u001b[1;33m\u001b[0m\u001b[1;33m\u001b[0m\u001b[0m\n\u001b[0m\u001b[0;32m    850\u001b[0m \u001b[1;33m\u001b[0m\u001b[0m\n\u001b[0;32m    851\u001b[0m \u001b[1;33m\u001b[0m\u001b[0m\n",
      "\u001b[1;31mRuntimeError\u001b[0m: Failed to converge after 5 iterations, value is -6.8226421067648655"
     ]
    }
   ],
   "source": [
    "pi = 3.14\n",
    "I = 3.5\n",
    "def corrente(t): return 9*np.exp(-t)*np.sin(2*pi*t) - I\n",
    "\n",
    "opt.fixed_point(corrente, 0,method ='iteration', maxiter=5)"
   ]
  }
 ],
 "metadata": {
  "kernelspec": {
   "display_name": "Python 3",
   "language": "python",
   "name": "python3"
  },
  "language_info": {
   "codemirror_mode": {
    "name": "ipython",
    "version": 3
   },
   "file_extension": ".py",
   "mimetype": "text/x-python",
   "name": "python",
   "nbconvert_exporter": "python",
   "pygments_lexer": "ipython3",
   "version": "3.7.3"
  }
 },
 "nbformat": 4,
 "nbformat_minor": 2
}
