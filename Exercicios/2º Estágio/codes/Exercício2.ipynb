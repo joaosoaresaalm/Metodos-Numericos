{
 "cells": [
  {
   "cell_type": "markdown",
   "metadata": {},
   "source": [
    "**Aluno(a): João Victor Soares de Almeida**"
   ]
  },
  {
   "cell_type": "markdown",
   "metadata": {},
   "source": [
    "<h5> Exercício I </h5>"
   ]
  },
  {
   "cell_type": "code",
   "execution_count": 1,
   "metadata": {},
   "outputs": [],
   "source": [
    "import numpy as np\n",
    "import scipy.linalg as sla"
   ]
  },
  {
   "cell_type": "code",
   "execution_count": 3,
   "metadata": {},
   "outputs": [],
   "source": [
    "\n",
    "def elimin_gaussiana(a, b,imp=False, norma='inf'):\n",
    "    # matriz estendida Me\n",
    "    b = np.mat(b).T\n",
    "    Me = np.concatenate((a, b), axis=1)\n",
    "    if imp: print('Matriz estendida: \\n', Me, '\\n\\n')\n",
    "    if imp: print('=' * 80)\n",
    "    for j in range(Me.shape[-1] - 2):  # coluna\n",
    "        if imp: print('Operação na coluna', j)\n",
    "        if imp: print('=' * 80, '\\n\\n')\n",
    "        for i in range(j + 1, Me.shape[0]):  # linha\n",
    "            Me[i] = Me[i] - (Me[i, j] / Me[j, j]) * Me[j]  # operações com cada linha\n",
    "            if imp: print('Operação na linha', i, ':', Me[i], '\\n')\n",
    "            if imp: print('Matriz escalonando: \\n', Me, '\\n')\n",
    "        if imp: print('=' * 80)\n",
    "    if imp: print('\\nMatriz escalonada: \\n', Me, '\\n')\n",
    "    Matriz_A = np.delete(Me, -1, axis=1)  # matriz de coeficientes escalonada\n",
    "    Vetor_b = Me[:, -1]  # matriz de termos independentes escalonada\n",
    "    Vetor_x = sla.solve_triangular(Matriz_A, Vetor_b)  # solução do sistema escalonado\n",
    "    if imp: print('=' * 80, '\\n\\nSolução do sistema: \\n', Vetor_x)\n",
    "    # verificação do erro do sistema\n",
    "    if norma is 'inf': norma = np.inf\n",
    "    if norma is '-inf': norma = -np.inf\n",
    "    Erro = sla.norm(b - a.dot(Vetor_x), ord=norma)\n",
    "    return (Matriz_A, Vetor_b, Vetor_x, Erro)\n"
   ]
  },
  {
   "cell_type": "markdown",
   "metadata": {},
   "source": [
    "**Exemplo 1**"
   ]
  },
  {
   "cell_type": "code",
   "execution_count": 6,
   "metadata": {},
   "outputs": [
    {
     "name": "stdout",
     "output_type": "stream",
     "text": [
      "Array Solução:\n",
      " [[1.]\n",
      " [2.]\n",
      " [3.]]\n"
     ]
    }
   ],
   "source": [
    "a = np.array([[2, 3, -1], [4, 4, -3], [2, -3, 1]])\n",
    "b = np.array([5, 3, -1])\n",
    "M = elimin_gaussiana(a, b)\n",
    "print('Array Solução:\\n',M[2])"
   ]
  },
  {
   "cell_type": "code",
   "execution_count": 7,
   "metadata": {},
   "outputs": [
    {
     "data": {
      "text/plain": [
       "array([1., 2., 3.])"
      ]
     },
     "execution_count": 7,
     "metadata": {},
     "output_type": "execute_result"
    }
   ],
   "source": [
    "sla.solve(a,b)"
   ]
  },
  {
   "cell_type": "markdown",
   "metadata": {},
   "source": [
    "**Exemplo 2**"
   ]
  },
  {
   "cell_type": "code",
   "execution_count": null,
   "metadata": {},
   "outputs": [],
   "source": [
    "a = np.array([[1, 1, 1], [4, 4, 2], [2, 1, -1]])\n",
    "b = np.array([1, 2, 0])\n",
    "elimin_gaussiana(a, b)"
   ]
  },
  {
   "cell_type": "markdown",
   "metadata": {},
   "source": [
    "**Alteração da função para que o erro não ocorra**"
   ]
  },
  {
   "cell_type": "code",
   "execution_count": 9,
   "metadata": {},
   "outputs": [],
   "source": [
    "def gausElimin(a, b, piv = True, imp=False, norma='inf'):\n",
    "    # matriz estendida Me\n",
    "    b = np.mat(b).T\n",
    "    Me = np.array(np.concatenate((a, b), axis=1))\n",
    "    tamanhoMat = len(Me)\n",
    "    if imp: print('Matriz estendida: \\n', Me, '\\n\\n')\n",
    "    if imp: print('=' * 80)\n",
    "        \n",
    "        \n",
    "    for i in range(tamanhoMat - 1):\n",
    "        if piv:\n",
    "            maiorIndice = abs(Me[i:, i]).argmax() + i\n",
    "            if Me[maiorIndice, i] == 0:\n",
    "                raise ValueError('Matriz Singular')\n",
    "            if maiorIndice != i:\n",
    "                Me[[i, maiorIndice]] = Me[[maiorIndice, i]]\n",
    "                if imp: print(\"Troca entre as linhas %i e %i\", k, maiorIndice)\n",
    "                if imp: print('Matriz escalonando: \\n',Me,'\\n')\n",
    "        else:\n",
    "            if Me[i,i] == 0:\n",
    "                raise ValueError('Pivô é zero')\n",
    "        \n",
    "        for prox in range(i +1, tamanhoMat):\n",
    "            temp = Me[prox, i]/Me[i,i]\n",
    "            Me[prox, i:] = Me[prox, i:] - temp* Me[i,i:]\n",
    "            if imp: print('Operação na linha %i: %i',prox, Me[prox])\n",
    "            if imp: print('Matriz escalonando: \\n',Me,'\\n')\n",
    "            \n",
    "    if imp: print('\\nMatriz escalonada: \\n', Me, '\\n')\n",
    "    Matriz_A = np.delete(Me, -1, axis=1)  # matriz de coeficientes escalonada\n",
    "    Vetor_b = Me[:, -1]  # matriz de termos independentes escalonada\n",
    "    Vetor_x = sla.solve_triangular(Matriz_A, Vetor_b)  # solução do sistema escalonado\n",
    "    if imp: print('=' * 80, '\\n\\nSolução do sistema: \\n', Vetor_x)\n",
    "    # verificação do erro do sistema\n",
    "    if norma is 'inf': norma = np.inf\n",
    "    if norma is '-inf': norma = -np.inf\n",
    "    Erro = sla.norm(b - a.dot(Vetor_x), ord=norma)\n",
    "    return (Matriz_A, Vetor_b, Vetor_x, Erro)"
   ]
  },
  {
   "cell_type": "code",
   "execution_count": 10,
   "metadata": {},
   "outputs": [
    {
     "name": "stdout",
     "output_type": "stream",
     "text": [
      "Array Solução: [ 1. -1.  1.]\n"
     ]
    }
   ],
   "source": [
    "a = np.array([[1, 1, 1], [4, 4, 2], [2, 1, -1]]).astype(float)\n",
    "b = np.array([1, 2, 0]).astype(float)\n",
    "\n",
    "print('Array Solução:',gausElimin(a, b)[2])"
   ]
  },
  {
   "cell_type": "markdown",
   "metadata": {},
   "source": [
    "**Exercício II**"
   ]
  },
  {
   "cell_type": "code",
   "execution_count": 11,
   "metadata": {},
   "outputs": [
    {
     "name": "stdout",
     "output_type": "stream",
     "text": [
      "Erro Absoluto: [-3.5   1.   -0.01] \n",
      "ErroRelativo: [-0.77777778         inf -0.00990099]\n"
     ]
    },
    {
     "name": "stderr",
     "output_type": "stream",
     "text": [
      "C:\\Users\\joaos\\Anaconda1\\lib\\site-packages\\ipykernel_launcher.py:5: RuntimeWarning: divide by zero encountered in true_divide\n",
      "  \"\"\"\n"
     ]
    }
   ],
   "source": [
    "solucaoUm = np.array([1,1,1])\n",
    "solucaoDois = np.array([4.5,0,1.01])\n",
    "\n",
    "ErroAb = solucaoUm - solucaoDois\n",
    "ErroRe = ErroAb/solucaoDois\n",
    "\n",
    "\n",
    "print('Erro Absoluto:',ErroAb, '\\nErroRelativo:', ErroRe)"
   ]
  },
  {
   "cell_type": "markdown",
   "metadata": {},
   "source": [
    "**Exercício III**"
   ]
  },
  {
   "cell_type": "code",
   "execution_count": 12,
   "metadata": {},
   "outputs": [],
   "source": [
    "def gausElimin(a, b, piv = True, imp=False, norma='inf'):\n",
    "    # matriz estendida Me\n",
    "    b = np.mat(b).T\n",
    "    Me = np.array(np.concatenate((a, b), axis=1))\n",
    "    tamanhoMat = len(Me)\n",
    "    if imp: print('Matriz estendida: \\n', Me, '\\n\\n')\n",
    "    if imp: print('=' * 80)\n",
    "        \n",
    "        \n",
    "    for i in range(tamanhoMat - 1):\n",
    "        if piv:\n",
    "            maiorIndice = abs(Me[i:, i]).argmax() + i\n",
    "            if Me[maiorIndice, i] == 0:\n",
    "                raise ValueError('Matriz Singular')\n",
    "            if maiorIndice != i:\n",
    "                Me[[i, maiorIndice]] = Me[[maiorIndice, i]]\n",
    "                if imp: print(\"Troca entre as linhas %i e %i\", k, maiorIndice)\n",
    "                if imp: print('Matriz escalonando: \\n',Me,'\\n')\n",
    "        else:\n",
    "            if Me[i,i] == 0:\n",
    "                raise ValueError('Pivô é zero')\n",
    "        \n",
    "        for prox in range(i +1, tamanhoMat):\n",
    "            temp = Me[prox, i]/Me[i,i]\n",
    "            Me[prox, i:] = Me[prox, i:] - temp* Me[i,i:]\n",
    "            if imp: print('Operação na linha %i: %i',prox, Me[prox])\n",
    "            if imp: print('Matriz escalonando: \\n',Me,'\\n')\n",
    "            \n",
    "    if imp: print('\\nMatriz escalonada: \\n', Me, '\\n')\n",
    "    Matriz_A = np.delete(Me, -1, axis=1)  # matriz de coeficientes escalonada\n",
    "    Vetor_b = Me[:, -1]  # matriz de termos independentes escalonada\n",
    "    Vetor_x = sla.solve_triangular(Matriz_A, Vetor_b)  # solução do sistema escalonado\n",
    "    if imp: print('=' * 80, '\\n\\nSolução do sistema: \\n', Vetor_x)\n",
    "    # verificação do erro do sistema\n",
    "    if norma is 'inf': norma = np.inf\n",
    "    if norma is '-inf': norma = -np.inf\n",
    "    Erro = sla.norm(b - a.dot(Vetor_x), ord=norma)\n",
    "    return (Matriz_A, Vetor_b, Vetor_x, Erro)"
   ]
  },
  {
   "cell_type": "code",
   "execution_count": 13,
   "metadata": {},
   "outputs": [
    {
     "name": "stdout",
     "output_type": "stream",
     "text": [
      "Array Solução: [1. 1. 1.]\n"
     ]
    }
   ],
   "source": [
    "c = np.array([[1,4,52],[27,110,-3],[22,2,14]]).astype(float)\n",
    "d = np.array([57,134,38]).astype(float)\n",
    "\n",
    "print('Array Solução:',gausElimin(c,d)[2])"
   ]
  },
  {
   "cell_type": "markdown",
   "metadata": {},
   "source": [
    "**Exercício IV**"
   ]
  },
  {
   "cell_type": "code",
   "execution_count": 7,
   "metadata": {},
   "outputs": [],
   "source": [
    "def gausElimin(a, b, piv = True, imp=False, norma='inf'):\n",
    "    # matriz estendida Me\n",
    "    b = np.mat(b).T\n",
    "    Me = np.array(np.concatenate((a, b), axis=1))\n",
    "    tamanhoMat = len(Me)\n",
    "    if imp: print('Matriz estendida: \\n', Me, '\\n\\n')\n",
    "    if imp: print('=' * 80)\n",
    "           \n",
    "    for i in range(tamanhoMat - 1):\n",
    "        if piv:\n",
    "            maiorIndice = abs(Me[i:, i]).argmax() + i\n",
    "            if Me[maiorIndice, i] == 0:\n",
    "                raise ValueError('Matriz Singular')\n",
    "            if maiorIndice != i:\n",
    "                Me[[i, maiorIndice]] = Me[[maiorIndice, i]]\n",
    "                if imp: print(\"Troca entre as linhas %i e %i\", k, maiorIndice)\n",
    "                if imp: print('Matriz escalonando: \\n',Me,'\\n')\n",
    "        else:\n",
    "            if Me[i,i] == 0:\n",
    "                raise ValueError('Pivô é zero')\n",
    "        \n",
    "        for prox in range(i +1, tamanhoMat):\n",
    "            temp = Me[prox, i]/Me[i,i]\n",
    "            Me[prox, i:] = Me[prox, i:] - temp* Me[i,i:]\n",
    "            if imp: print('Operação na linha %i: %i',prox, Me[prox])\n",
    "            if imp: print('Matriz escalonando: \\n',Me,'\\n')\n",
    "            \n",
    "    if imp: print('\\nMatriz escalonada: \\n', Me, '\\n')\n",
    "    Matriz_A = np.delete(Me, -1, axis=1)  # matriz de coeficientes escalonada\n",
    "    Vetor_b = Me[:, -1]  # matriz de termos independentes escalonada\n",
    "    Vetor_x = sla.solve_triangular(Matriz_A, Vetor_b)  # solução do sistema escalonado\n",
    "    if imp: print('=' * 80, '\\n\\nSolução do sistema: \\n', Vetor_x)\n",
    "    # verificação do erro do sistema\n",
    "    if norma is 'inf': norma = np.inf\n",
    "    if norma is '-inf': norma = -np.inf\n",
    "    Erro = sla.norm(b - a.dot(Vetor_x), ord=norma)\n",
    "    return (Matriz_A, Vetor_b, Vetor_x, Erro)"
   ]
  },
  {
   "cell_type": "code",
   "execution_count": 12,
   "metadata": {},
   "outputs": [
    {
     "name": "stdout",
     "output_type": "stream",
     "text": [
      "Erro Absoluto: [ 0  0  3 -9] \n",
      "ErroRelativo: [ 0.     nan   inf -2.25]\n"
     ]
    },
    {
     "name": "stderr",
     "output_type": "stream",
     "text": [
      "C:\\Users\\joaos\\Anaconda1\\lib\\site-packages\\ipykernel_launcher.py:5: RuntimeWarning: divide by zero encountered in true_divide\n",
      "  \"\"\"\n",
      "C:\\Users\\joaos\\Anaconda1\\lib\\site-packages\\ipykernel_launcher.py:5: RuntimeWarning: invalid value encountered in true_divide\n",
      "  \"\"\"\n"
     ]
    }
   ],
   "source": [
    "solucaoUm = np.array([1,0,3, -5])\n",
    "solucaoDois = np.array([1,0,0,4])\n",
    "\n",
    "ErroAb = solucaoUm - solucaoDois\n",
    "ErroRe = ErroAb/solucaoDois\n",
    "\n",
    "print('Erro Absoluto:',ErroAb, '\\nErroRelativo:', ErroRe)"
   ]
  },
  {
   "cell_type": "markdown",
   "metadata": {},
   "source": [
    "**Exercício V**"
   ]
  },
  {
   "cell_type": "markdown",
   "metadata": {},
   "source": [
    "**Exercício VI**"
   ]
  },
  {
   "cell_type": "code",
   "execution_count": 13,
   "metadata": {},
   "outputs": [
    {
     "data": {
      "text/plain": [
       "array([[ 1,  1,  1],\n",
       "       [ 2,  1, -1],\n",
       "       [ 2, -1,  1]])"
      ]
     },
     "execution_count": 13,
     "metadata": {},
     "output_type": "execute_result"
    }
   ],
   "source": [
    "A = np.array([[1,1,1],[2,1,-1],[2,-1,1]])\n",
    "B = np.array([-2,1,3])\n",
    "A"
   ]
  },
  {
   "cell_type": "code",
   "execution_count": 24,
   "metadata": {},
   "outputs": [
    {
     "name": "stdout",
     "output_type": "stream",
     "text": [
      "[[1. 0. 0.]\n",
      " [0. 0. 1.]\n",
      " [0. 1. 0.]]\n",
      "[[1.         1.         1.        ]\n",
      " [0.         1.         0.33333333]\n",
      " [0.         0.         1.        ]]\n",
      "[[ 1.          0.          0.        ]\n",
      " [ 2.         -3.          0.        ]\n",
      " [ 2.         -1.         -2.66666667]]\n"
     ]
    }
   ],
   "source": [
    "(P,L,U)= sla.lu(A.T)\n",
    "\n",
    "print(P.T)\n",
    "\n",
    "print(L.T)\n",
    "\n",
    "print(U.T)"
   ]
  },
  {
   "cell_type": "code",
   "execution_count": 19,
   "metadata": {},
   "outputs": [
    {
     "name": "stdout",
     "output_type": "stream",
     "text": [
      "[[ 2.    1.   -1.  ]\n",
      " [ 1.   -2.    2.  ]\n",
      " [ 0.5  -0.25  2.  ]]\n",
      "[1 2 2]\n"
     ]
    }
   ],
   "source": [
    "lu,piv = sla.lu_factor(A)\n",
    "print(lu)\n",
    "\n",
    "print(piv)"
   ]
  },
  {
   "cell_type": "code",
   "execution_count": 20,
   "metadata": {},
   "outputs": [
    {
     "data": {
      "text/plain": [
       "array([ 1., -2., -1.])"
      ]
     },
     "execution_count": 20,
     "metadata": {},
     "output_type": "execute_result"
    }
   ],
   "source": [
    "sla.lu_solve((lu, piv), B)"
   ]
  },
  {
   "cell_type": "markdown",
   "metadata": {},
   "source": [
    "**LU**: \n",
    "- Faz a decomposição LU de uma matriz , decompondo no formato . Nessa função, a implementação é feita usando **somente** o scipy. Se permute_l = False, retorna P, L, U, caso permute_l = True, retorna PL e a matriz U\n",
    "\n",
    "**A=PLU**\n",
    "- **lu_factor**:Faz a decomposição LU de uma matriz , decompondo no formato . Porém, essa função, implementa o método *GETRF da LAPACK. \n",
    "\n",
    "\n",
    "Por fim, chegamos a conclusão que apesar de os métodos utilizam de estratégias diferentes para resolver o cálculo da Matriz, porém ambos chegam ao mesmo resultado."
   ]
  },
  {
   "cell_type": "code",
   "execution_count": null,
   "metadata": {},
   "outputs": [],
   "source": []
  }
 ],
 "metadata": {
  "kernelspec": {
   "display_name": "Python 3",
   "language": "python",
   "name": "python3"
  },
  "language_info": {
   "codemirror_mode": {
    "name": "ipython",
    "version": 3
   },
   "file_extension": ".py",
   "mimetype": "text/x-python",
   "name": "python",
   "nbconvert_exporter": "python",
   "pygments_lexer": "ipython3",
   "version": "3.7.3"
  }
 },
 "nbformat": 4,
 "nbformat_minor": 2
}
