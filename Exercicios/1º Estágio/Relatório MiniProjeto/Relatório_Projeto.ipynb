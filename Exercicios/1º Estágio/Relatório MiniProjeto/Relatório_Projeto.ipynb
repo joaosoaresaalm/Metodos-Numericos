{
 "cells": [
  {
   "cell_type": "markdown",
   "metadata": {},
   "source": [
    "    Instituto Federal de Educação, Ciência e Tecnologia da Paraíba\n",
    "                        Engenharia de Computação\n",
    "                        \n",
    "                        \n",
    "                        \n",
    "                        \n",
    "                        \n",
    "                        \n",
    "                     MÉTODO DE BRENT   \n",
    "                     \n",
    "                     \n",
    "                     \n",
    "                     \n",
    "                     \n",
    "                     \n",
    "                     \n",
    "                     \n",
    "                     \n",
    "                     \n",
    "                     \n",
    "                     \n",
    "                     JOÃO VICTOR SOARES DE ALMEIDA\n",
    "                     MANOEL MARCELO CARVALHO JUNIOR\n",
    "                        \n",
    "                     \n",
    "                     \n",
    "                     \n",
    "                     \n",
    "                     \n",
    "                     \n",
    "                     \n",
    "                     \n",
    "                     \n",
    "                     \n",
    "                     \n",
    "                     \n",
    "                     \n",
    "                     \n",
    "                     \n",
    "                     \n",
    "                     \n",
    "                     \n",
    "                     \n",
    "                     CAMPINA GRANDE - 2019\n",
    "                     "
   ]
  },
  {
   "cell_type": "code",
   "execution_count": null,
   "metadata": {
    "collapsed": true
   },
   "outputs": [],
   "source": []
  },
  {
   "cell_type": "markdown",
   "metadata": {},
   "source": [
    "<h2>1 Introdução </h2>"
   ]
  },
  {
   "cell_type": "markdown",
   "metadata": {},
   "source": [
    "<p style=\"background-color:white\">\n",
    "Método de Brent é uma combinação simples de diversos métodos computacionais para busca de raízes de função. Os métodos usados no algoritmo de Brent são: Método da Bisseção, da Secante e Interpolação Quadrática Inversa.\n",
    "\n",
    "A ideia por trás deste algoritmo está em aproveitar as vantagens de cada uma das técnicas combinadas, procurando minimizar suas desvantagens. Desta forma, utiliza a Interpolação Quadrática Inversa sempre que as aproximações intermediárias não se sobrepõem (o que acarretaria em uma divisão por zero). Quando há a sobreposição, tenta fazer a próxima aproximação utilizando o Método da Secante.\n",
    "\n",
    "Todavia, estas duas últimas técnicas são suscetíveis à divergir ao longo da execução. Caso este comportamento seja detectado, o algoritmo “ativa” o Método da Bisseção a fim de reconverter a aproximação ao zero da função.\n",
    "\n",
    "</p>"
   ]
  },
  {
   "cell_type": "markdown",
   "metadata": {},
   "source": [
    "<h2>2 Fundamentação Teórica </h2>"
   ]
  },
  {
   "cell_type": "markdown",
   "metadata": {},
   "source": [
    "<p style=\"background-color\":white>\n",
    "Sabemos que para encontrar raízes de uma função  polinomial de baixo grau temos estratégias conhecidas como, por exemplo, Bháskara para função polinomial do segundo grau, Relações de Girard para funções polinomais de terceiro grau, entre outras relações.\n",
    "\n",
    "No entanto, para polinômios de grau superior ( 5º ou +), onde não há soluções analíticas gerais ou para funções complicadas (ou conjuntos de funções), é frequentemente necessário ou mais fácil recorrer a métodos numéricos.\n",
    "\n",
    "Os algoritmos de localização de raiz compartilham uma abordagem muito direta e intuitiva para aproximar as raízes. A estrutura geral é algo como: \n",
    "\n",
    "   - Começar com um palpite inicial,\n",
    "   - Calcular o resultado do palpite,\n",
    "   - Atualizar o palpite com base no resultado e algumas outras condições,\n",
    "   - Repetir até estar satisfeito com o resultado.\n",
    "\n",
    " \n",
    "Não seria interessante ter uma abordagem híbrida, que combinasse a confiabilidade dos métodos intervalares com a velocidade dos métodos abertos? \\textbf{O método de Brent para a localização de raízes} é um algoritmo interligente que faz isso pela aplicação de um método aberto rápido sempre que possível, porém revertendo para um método intervalar confiável se necessário.\n",
    "\n",
    "A ideia geral por trás do **método de Brent para localização de raízes** é usar, sempre que possível, um dos métodos abertos rápido. Quando esses métodos produzem um resultado inaceitável(isto é, uma estamativa da raiz que saia do intervalo), o algoritmo reverte para  o método da bissecção, mais conservativo. Embora a bissecção possa ser mais lenta, gera uma estimativa que certamente cai dentro do intervalo. Esse processo é, então, repetido até que a raiz seja localizada dentro de uma tolerância aceitável. Como poderia ser esperado, a bissecção costuma dominar o processo no início, mas, à medida que se aproxima da raiz, a técnica muda para os métodos abertos mais rápidos.\n",
    "\n",
    "\n",
    "\n",
    "No entanto, por trás de toda implementação, existe uma fundamentação algébrica de como é realizado a operação referente a cada método. A seguir descreveremos algebricamente o funcionamento dos métodos utilizado pelo Método de Brent:\n",
    " \n",
    "- **1.1 Método da Bisseção**\n",
    "\n",
    "O **método da bisseção** é uma variação do método de busca incremental o qual o intervalo é sempre dividido na metade. Se uma função muda de sinal em um intervalo, calcula-se o valor da função em seu ponto médio; a posição da raiz é então determinada como o ponto médio do subintervalo no qual a mudança de sinal ocorre. O subintervalo torna=se, então, o intervalo para a próxima iteração, e o processo é repetido até que a raiz seja conhecida com precisão necessária. Contudo, a relação algébrica para este método é descrito como:\n",
    "\n",
    " $$|\\varepsilon_a| = {X_r^{novo} - X_r^{velho} \\over X_r^{novo}} $$\n",
    "\n",
    "  \n",
    "  \n",
    "\n",
    "</p>\n",
    "Por fim, utilizaremos uma implementação em Python para exemplicar a utlização do Método da Bisseção"
   ]
  },
  {
   "cell_type": "code",
   "execution_count": null,
   "metadata": {
    "collapsed": true
   },
   "outputs": [],
   "source": [
    "from __future__ import division<span \n",
    "import matplotlib.pyplot as plt\n",
    "import numpy as np\n",
    "import matplotlib.patches as mpatches\n",
    "def bisection(f, lower, upper, max_iters=50, tolerance=1e-5):\n",
    " \n",
    "    steps_taken = 0\n",
    " \n",
    "    while steps_taken < max_iters:\n",
    "        m = (lower + upper) / 2.0\n",
    " \n",
    "        if m == 0 or abs(upper-lower) < tolerance:             \n",
    "            return m, steps_taken                 \n",
    "        if f(m) > 0:\n",
    "            upper = m\n",
    "        else:\n",
    "            lower = m\n",
    " \n",
    "        steps_taken += 1\n",
    " \n",
    "    final_estimate = (lower + upper) / 2.0\n",
    "    return final_estimate, steps_taken\n",
    " \n",
    "f = lambda x: x**2 - 20\n",
    " \n",
    "root, steps = bisection(f, 1, 8)\n",
    "print (\"Raiz é:\", root)\n",
    "print (\"Quantidade de iterações:\", steps)\n",
    "\n",
    "\n",
    "\n",
    "t  = np.linspace(0, 10, 100)\n",
    "y = f(t)\n",
    "plt.plot(t, y)\n",
    "plt.plot(root, f(root), \"o\", color=\"black\", label ='Gráfico do Método da Bisseção')\n",
    "legenda  =  mpatches . Patch ( color = 'black' ,  label = 'Raiz' ) \n",
    "plt . legend ( handles = [ legenda ])\n",
    "plt.grid()\n"
   ]
  },
  {
   "cell_type": "markdown",
   "metadata": {},
   "source": [
    "\n",
    "- **2 Método da Secante**\n",
    "\n",
    "Um problema em potencial na implementação do **método de Newton-Raphson** é o cálculo da sua derivada e a partir disso que explicaremos como funciona o Método da Secante. Embora isso não seja inconveniente para polinômios e muitas outras funções, há certas funções cujas derivadas podem ser de cálculos extremamente difícil ou inconveniente. Para esses casos, a derivada pode ser aproximada por uma diferença dividida regressiva:\n",
    "\n",
    "$$f'(x_i) = {f(x_i-1) - f(x_i)} \\over x_{i-1} - x_i $$\n",
    "\n",
    "Esse aproximação pode ser substituída para fornecer a seguinte equação iterativa:\n",
    "\n",
    "$${x_{i + 1}} \\approx  {x_i - {{f(x_i)(x_{i-1})- x_i)} \\over f(x_{x-1}) - f(x_i)}} $$\n",
    "\n",
    "\n",
    "\n",
    "Portanto, assim como no Método da Bisseção, exemplicaremos com uma implementação em Python para o Método da Secante:"
   ]
  },
  {
   "cell_type": "code",
   "execution_count": null,
   "metadata": {
    "collapsed": true
   },
   "outputs": [],
   "source": [
    "def secant_method(f, x0, x1, max_iter=100, tolerance = 1e-5):\n",
    "    steps_taken = 1\n",
    "    while steps_taken < max_iter and abs(x1-x0) > tolerance:\n",
    "        x2 = x1 - ( (f(x1) * (x1 - x0)) / (f(x1) - f(x0)) )\n",
    "        x1, x0 = x2, x1\n",
    "        steps_taken += 1\n",
    "    return x2, steps_taken\n",
    " \n",
    "f = lambda x: x**2 - 20\n",
    " \n",
    "root, steps = secant_method(f, 2, 8)\n",
    "print (\"root is:\", root)\n",
    "print (\"steps taken:\", steps)\n",
    "\n",
    "t  = np.linspace(0, 10, 100)\n",
    "y = f(t)\n",
    "plt.plot(t, y)\n",
    "plt.plot(root, f(root), \"o\", color=\"black\", label ='Gráfico do Método da Bisseção')\n",
    "legenda  =  mpatches . Patch ( color = 'black' ,  label = 'Raiz' ) \n",
    "plt . legend ( handles = [ legenda ])\n",
    "plt.grid()"
   ]
  },
  {
   "cell_type": "markdown",
   "metadata": {},
   "source": [
    "<h2> 3 Metodologia da Solução </h2>"
   ]
  },
  {
   "cell_type": "markdown",
   "metadata": {},
   "source": [
    "<p style=\"background-color\":white>\n",
    "    \n",
    "Brent  é essencialmente o método de Bisseção aumentada com o IQI(Interpolação Quadrática) sempre que tal passo é seguro. Na pior das hipóteses, converge linearmente e igual à bissecção, mas, em geral, ela se comporta de maneira superlinear; Ele combina a garantia de convergência da bissecção com a convergência veloz dos Métodos abertos(Newton-Raphson, Método da Secante). Por causa disso, é provável que nós encontremos o Brent como um algoritmo padrão de localização de raízes em bibliotecas populares. E para nossa solução utilizaremos os conceitos explicados na **Fundamental Teórica** e tomaremos como base para fazer a implementação do Método de Brent utilizando Python. Abaixo descreveremos algebricamente a condição para implementação do algoritmo\n",
    "\n",
    "$$ b =\n",
    "\\left\\{\n",
    "        \\begin{array}{ll}\n",
    "            b_k  - {b_k - b_{k-1} \\over f(b_k) - f(b_k-1)}*f(b_k)& \\mbox{if} f(b_k) \\neq f(b_k-1) \\\\\n",
    "\\\n",
    "            |\\varepsilon_a|  & \\mbox{c.c}\n",
    "         \\end{array}\n",
    "\\right.$$\n",
    "\n",
    "\n",
    "</p>\n",
    "De acordo com a primeira função, é dito que,duas desigualdades devem ser satisfeitas simultaneamente: dada uma tolerância numérica específica. Caso isso ocorra, utilizaremos a expressão para calcular a Raiz. Caso não ocorra essa condição utilizaremos a outra função denominada $|\\varepsilon_a|$\n",
    "\n",
    "\n",
    "sendo, $$|\\varepsilon_a| = {X_r^{novo} - X_r^{velho} \\over X_r^{novo}} $$\n",
    "\n",
    "\n",
    "Não obstante o Método de Brent parecer muito com o Método da Secante, há uma diferença. No Método da Secante utilizamos um outro método chamado de Interpolação Linear, que é um método mais simples, pelo fato de utilizarmos dois pontos distintos de uma função $y = f(x), (x_0, f(x_0)) e (x_1, f(x_1))$, já no Método de Brent utilizamos a Interpolação Quadrática, que também é um caso particular da Interpolação de Lagrange, em que genericamente pretendemos determinar o polinômio interpolador de grau menor ou igual a **n** sendo conhecidos **(n+1)** pontos. Abaixo descreveremos algebricamente como funciona a ideia da Interpolação Quadrática. \n",
    "- $P_n(x) = a_nX^n + a_{n-1}X^{n-1} + ... + a_2X^2 + a_1X + a_0 = \\sum\\limits_{i=0}^{n} a_iX^i$"
   ]
  },
  {
   "cell_type": "code",
   "execution_count": 2,
   "metadata": {},
   "outputs": [
    {
     "name": "stdout",
     "output_type": "stream",
     "text": [
      "root is: 4.47213595499958\n",
      "steps taken: 16\n"
     ]
    }
   ],
   "source": [
    "def brents(f, x0, x1, max_iter=50, tolerance=1e-5):\n",
    " \n",
    "    fx0 = f(x0)\n",
    "    fx1 = f(x1)\n",
    " \n",
    "    assert (fx0 * fx1) <= 0, \"Root not bracketed\" \n",
    " \n",
    "    if abs(fx0) < abs(fx1):\n",
    "        x0, x1 = x1, x0\n",
    "        fx0, fx1 = fx1, fx0\n",
    " \n",
    "    x2, fx2 = x0, fx0\n",
    " \n",
    "    mflag = True\n",
    "    steps_taken = 0\n",
    " \n",
    "    while steps_taken < max_iter and abs(x1-x0) > tolerance:\n",
    "        fx0 = f(x0)\n",
    "        fx1 = f(x1)\n",
    "        fx2 = f(x2)\n",
    " \n",
    "        if fx0 != fx2 and fx1 != fx2:\n",
    "            L0 = (x0 * fx1 * fx2) / ((fx0 - fx1) * (fx0 - fx2))\n",
    "            L1 = (x1 * fx0 * fx2) / ((fx1 - fx0) * (fx1 - fx2))\n",
    "            L2 = (x2 * fx1 * fx0) / ((fx2 - fx0) * (fx2 - fx1))\n",
    "            new = L0 + L1 + L2\n",
    " \n",
    "        else:\n",
    "            new = x1 - ( (fx1 * (x1 - x0)) / (fx1 - fx0) )\n",
    " \n",
    "        if ((new < ((3 * x0 + x1) / 4) or new > x1) or\n",
    "            (mflag == True and (abs(new - x1)) >= (abs(x1 - x2) / 2)) or\n",
    "            (mflag == False and (abs(new - x1)) >= (abs(x2 - d) / 2)) or\n",
    "            (mflag == True and (abs(x1 - x2)) < tolerance) or\n",
    "            (mflag == False and (abs(x2 - d)) < tolerance)):\n",
    "            new = (x0 + x1) / 2\n",
    "            mflag = True\n",
    " \n",
    "        else:\n",
    "            mflag = False\n",
    " \n",
    "        fnew = f(new)\n",
    "        d, x2 = x2, x1\n",
    " \n",
    "        if (fx0 * fnew) < 0:\n",
    "            x1 = new\n",
    "        else:\n",
    "            x0 = new\n",
    " \n",
    "        if abs(fx0) < abs(fx1):\n",
    "            x0, x1 = x1, x0\n",
    " \n",
    "        steps_taken += 1\n",
    " \n",
    "    return x1, steps_taken\n",
    " \n",
    "f = lambda x: x**2 - 20\n",
    " \n",
    "root, steps = brents(f, 2, 5, tolerance=10e-5)\n",
    "print (\"root is:\", root)\n",
    "print (\"steps taken:\", steps)"
   ]
  },
  {
   "cell_type": "code",
   "execution_count": null,
   "metadata": {
    "collapsed": true
   },
   "outputs": [],
   "source": [
    "import matplotlib.pyplot as plt\n",
    "import numpy as np\n",
    "import matplotlib.patches as mpatches\n",
    "t  = np.linspace(0, 10, 100)\n",
    "y = f(t)\n",
    "plt.plot(t, y)\n",
    "plt.plot(root, f(root), \"o\", color=\"black\", label ='Gráfico do Método de Brent')\n",
    "legenda  =  mpatches . Patch ( color = 'black' ,  label = 'Raiz' ) \n",
    "plt . legend ( handles = [ legenda ])\n",
    "plt.grid()"
   ]
  },
  {
   "cell_type": "markdown",
   "metadata": {},
   "source": [
    "<h2>4 Referências </h2>"
   ]
  },
  {
   "cell_type": "markdown",
   "metadata": {},
   "source": [
    "Numerical Methods for Engineers. THREE EDITION. Steven C. Chapra. Berger Chair in Computing and Engineering. Tufts University. Raymond P. Canale.\n",
    "\n",
    "[Sawp](http://www.sawp.com.br/blog/?p=558\\) - http://www.sawp.com.br/blog/?p=558\\\n",
    "\n",
    "[NickDryan](https://nickcdryan.com/2017/09/13/root-finding-algorithms-in-python-line-search-bisection-secant-newton-raphson-boydens-inverse-quadratic-interpolation-brents/) - https://nickcdryan.com/2017/09/13/root-finding-algorithms-in-python-line-search-bisection-secant-newton-raphson-boydens-inverse-quadratic-interpolation-brents/\n",
    "\n"
   ]
  },
  {
   "cell_type": "code",
   "execution_count": null,
   "metadata": {
    "collapsed": true
   },
   "outputs": [],
   "source": []
  }
 ],
 "metadata": {
  "kernelspec": {
   "display_name": "Python 2",
   "language": "python",
   "name": "python2"
  },
  "language_info": {
   "codemirror_mode": {
    "name": "ipython",
    "version": 2
   },
   "file_extension": ".py",
   "mimetype": "text/x-python",
   "name": "python",
   "nbconvert_exporter": "python",
   "pygments_lexer": "ipython2",
   "version": "2.7.13"
  }
 },
 "nbformat": 4,
 "nbformat_minor": 2
}
