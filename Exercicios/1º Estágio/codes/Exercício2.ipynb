{
 "cells": [
  {
   "cell_type": "markdown",
   "metadata": {},
   "source": [
    "<h3> Lista de Exercícios </h3>\n",
    "\n",
    "**Aluno(a): João Victor Soares de Almeida**"
   ]
  },
  {
   "cell_type": "code",
   "execution_count": 4,
   "metadata": {
    "collapsed": true
   },
   "outputs": [],
   "source": [
    "import numpy as np"
   ]
  },
  {
   "cell_type": "markdown",
   "metadata": {},
   "source": [
    "**Questão 1**"
   ]
  },
  {
   "cell_type": "code",
   "execution_count": 15,
   "metadata": {
    "scrolled": true
   },
   "outputs": [
    {
     "name": "stdout",
     "output_type": "stream",
     "text": [
      "6.083333333333334 1.3698630137\n",
      "6.082762557077626 0.00938350380033\n",
      "6.08276253029822 4.40250712181e-07\n",
      "6.08276253029822 0.0\n",
      "6.08276253029822 0.0\n",
      "6.08276253029822 0.0\n",
      "6.08276253029822 0.0\n",
      "6.08276253029822 0.0\n",
      "6.08276253029822 0.0\n",
      "6.08276253029822 0.0\n"
     ]
    }
   ],
   "source": [
    "a = 37\n",
    "Xi = 6\n",
    "for i in range(10):\n",
    "    Xp = (Xi + (a/Xi))/2\n",
    "    e =np.abs(((Xi - Xp)/Xp)*100) \n",
    "    Xi = Xp\n",
    "    print(Xi,e)\n"
   ]
  },
  {
   "cell_type": "markdown",
   "metadata": {},
   "source": [
    "**Questão 2**\n"
   ]
  },
  {
   "cell_type": "code",
   "execution_count": 53,
   "metadata": {},
   "outputs": [
    {
     "name": "stdout",
     "output_type": "stream",
     "text": [
      "2.22044604925e-16\n"
     ]
    }
   ],
   "source": [
    "def epsilon():\n",
    "    e = 1 \n",
    "\n",
    "    while True:\n",
    "        if((1 + e) <= 1):\n",
    "            e = e*2\n",
    "            return e\n",
    "            break\n",
    "            \n",
    "        else:\n",
    "            e = e/2\n",
    "   \n",
    "\n",
    "    \n",
    "epsilon()\n",
    "print(np.finfo(float).eps)\n"
   ]
  },
  {
   "cell_type": "markdown",
   "metadata": {},
   "source": [
    "**Questão 3**"
   ]
  },
  {
   "cell_type": "code",
   "execution_count": 10,
   "metadata": {},
   "outputs": [
    {
     "name": "stdout",
     "output_type": "stream",
     "text": [
      "2352910.792601485\n"
     ]
    }
   ],
   "source": [
    "def derivada():\n",
    "    x = 0.577\n",
    "    y = (6*x/(1 - 3*x**2)**2)\n",
    "    print(y)\n",
    "derivada()"
   ]
  },
  {
   "cell_type": "markdown",
   "metadata": {},
   "source": [
    "**Resposta**: O resultado acima é muito grande, devido a operação do denominador resultar em um número muito pequeno de aproximadamente: 1,47 x 10^-5\n"
   ]
  },
  {
   "cell_type": "markdown",
   "metadata": {},
   "source": [
    "**Questão 4**"
   ]
  },
  {
   "cell_type": "code",
   "execution_count": 67,
   "metadata": {},
   "outputs": [
    {
     "name": "stdout",
     "output_type": "stream",
     "text": [
      "0.33333333333333326\n",
      "0.33333333333333304\n",
      "0.33333333333333215\n",
      "0.3333333333333286\n",
      "0.3333333333333144\n",
      "0.33333333333325754\n",
      "0.33333333333303017\n",
      "0.3333333333321207\n",
      "0.3333333333284827\n",
      "0.3333333333139308\n"
     ]
    },
    {
     "data": {
      "text/plain": [
       "0.3333333333139308"
      ]
     },
     "execution_count": 67,
     "metadata": {},
     "output_type": "execute_result"
    }
   ],
   "source": [
    "def serie():\n",
    "    temp = 1/3\n",
    "    for i in range(10):\n",
    "        var = 4*temp -1\n",
    "        temp = var\n",
    "        print(var)\n",
    "   \n",
    "    return temp   \n",
    "serie()"
   ]
  },
  {
   "cell_type": "markdown",
   "metadata": {},
   "source": [
    "**Resposta**: Utilizamos sucessivas aproximações, partindo de uma aproximação inicial na variável temp. A implementação comp. das soluções iterativas envolve laços, assim, em vez de empregar um número pré-especificado de iterações, o processo é repetido até que um erro aproximado fique abaixo de um critério de parada."
   ]
  },
  {
   "cell_type": "markdown",
   "metadata": {},
   "source": [
    "\n"
   ]
  },
  {
   "cell_type": "markdown",
   "metadata": {},
   "source": [
    "**Questão 5**"
   ]
  },
  {
   "cell_type": "code",
   "execution_count": 9,
   "metadata": {},
   "outputs": [
    {
     "data": {
      "text/plain": [
       "-1.0"
      ]
     },
     "execution_count": 9,
     "metadata": {},
     "output_type": "execute_result"
    }
   ],
   "source": [
    "def identidade(x):\n",
    "\n",
    "    y = (((1 + x) -1)/x) -1\n",
    "    return y\n",
    "identidade(10**-17)"
   ]
  },
  {
   "cell_type": "markdown",
   "metadata": {},
   "source": [
    "**Resposta:** Devido as implicações da representação em ponto flutuante, todas as quantidades que caírem nos \"buracos\" entre o min e o max, exibirão algum erro de arredondamento."
   ]
  },
  {
   "cell_type": "markdown",
   "metadata": {},
   "source": [
    "**Questão 6**"
   ]
  },
  {
   "cell_type": "code",
   "execution_count": 23,
   "metadata": {},
   "outputs": [
    {
     "name": "stdout",
     "output_type": "stream",
     "text": [
      "a: nan b: 1.0\n"
     ]
    },
    {
     "name": "stderr",
     "output_type": "stream",
     "text": [
      "C:\\ProgramData\\Anaconda3\\lib\\site-packages\\ipykernel_launcher.py:3: RuntimeWarning: overflow encountered in exp\n",
      "  This is separate from the ipykernel package so we can avoid doing imports until\n",
      "C:\\ProgramData\\Anaconda3\\lib\\site-packages\\ipykernel_launcher.py:3: RuntimeWarning: invalid value encountered in double_scalars\n",
      "  This is separate from the ipykernel package so we can avoid doing imports until\n"
     ]
    }
   ],
   "source": [
    "def expoente():\n",
    "    u = 0.001\n",
    "    a = np.exp(1/u)/(1 + np.exp(1/u))\n",
    "    b = 1/(np.exp(-1/u) + 1)\n",
    "    print(\"a:\",a,\"b:\",b)\n",
    "expoente()"
   ]
  },
  {
   "cell_type": "markdown",
   "metadata": {},
   "source": [
    "**Resposta:** Os numeros resultantes dos cálculos que excederam o valor definido como inf, por isso, caimos na situação do nan"
   ]
  },
  {
   "cell_type": "markdown",
   "metadata": {
    "scrolled": true
   },
   "source": [
    "**Questão 7**"
   ]
  },
  {
   "cell_type": "code",
   "execution_count": null,
   "metadata": {
    "collapsed": true
   },
   "outputs": [],
   "source": [
    "def relatividade(v):\n",
    "    c = 299792458\n",
    "    m = 9,10938291 * 10**-31\n",
    "    \n",
    "    E = m*(c^2)*(1/(np.sqrt(1 - (v/c)**2))-1)\n",
    "    return E\n",
    "relatividade(0.1)\n"
   ]
  },
  {
   "cell_type": "code",
   "execution_count": null,
   "metadata": {
    "collapsed": true
   },
   "outputs": [],
   "source": []
  }
 ],
 "metadata": {
  "kernelspec": {
   "display_name": "Python 3",
   "language": "python",
   "name": "python3"
  },
  "language_info": {
   "codemirror_mode": {
    "name": "ipython",
    "version": 3
   },
   "file_extension": ".py",
   "mimetype": "text/x-python",
   "name": "python",
   "nbconvert_exporter": "python",
   "pygments_lexer": "ipython3",
   "version": "3.6.0"
  }
 },
 "nbformat": 4,
 "nbformat_minor": 2
}
