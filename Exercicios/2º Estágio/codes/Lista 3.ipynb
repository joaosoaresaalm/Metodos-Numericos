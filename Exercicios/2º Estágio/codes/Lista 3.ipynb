{
 "cells": [
  {
   "cell_type": "code",
   "execution_count": 2,
   "metadata": {},
   "outputs": [],
   "source": [
    "import numpy as np\n",
    "import scipy.linalg as sla"
   ]
  },
  {
   "cell_type": "markdown",
   "metadata": {},
   "source": [
    "**Exercício - 9.4**"
   ]
  },
  {
   "cell_type": "code",
   "execution_count": 2,
   "metadata": {},
   "outputs": [],
   "source": [
    "matrizA = [[0,2,5],[2,1,1],[3,1,0]]\n",
    "matrizB = [1,1,2]"
   ]
  },
  {
   "cell_type": "code",
   "execution_count": null,
   "metadata": {},
   "outputs": [],
   "source": [
    "def GausPivot(A,b):\n",
    "    n = len(A)\n",
    "    M = A\n",
    "\n",
    "    i = 0\n",
    "    for x in M:\n",
    "     \n",
    "        x.append(b[i])\n",
    "        i += 1\n",
    "\n",
    "    for k in range(n):\n",
    "        for i in range(k,n):\n",
    "            \n",
    "            if abs(M[i][k]) > abs(M[k][k]):\n",
    "                M[k], M[i] = M[i],M[k]\n",
    "            else:\n",
    "                pass\n",
    "\n",
    "        for j in range(k+1,n):\n",
    "            q = float(M[j][k]) / M[k][k]\n",
    "            for m in range(k, n+1):\n",
    "                  M[j][m] -=  q * M[k][m]\n",
    "\n",
    "    x = [0 for i in range(n)]\n",
    "\n",
    "    x[n-1] =float(M[n-1][n])/M[n-1][n-1]\n",
    "    for i in range (n-1,-1,-1):\n",
    "        z = 0\n",
    "        for j in range(i+1,n):\n",
    "            z = z  + float(M[i][j])*x[j]\n",
    "            x[i] = float(M[i][n] - z)/M[i][i]\n",
    "            \n",
    "    \n",
    "    return x\n",
    "GausPivot(A,b)\n"
   ]
  },
  {
   "cell_type": "markdown",
   "metadata": {},
   "source": [
    "**9.6**"
   ]
  },
  {
   "cell_type": "code",
   "execution_count": 3,
   "metadata": {},
   "outputs": [
    {
     "data": {
      "text/plain": [
       "array([[ 0.],\n",
       "       [ 0.],\n",
       "       [-1.]])"
      ]
     },
     "execution_count": 3,
     "metadata": {},
     "output_type": "execute_result"
    }
   ],
   "source": [
    "def matIngenua(A,b):\n",
    "    m = len(A)\n",
    "    n = len(A[0])\n",
    "    b = np.reshape(b, (-1, 1))\n",
    "    matAum = np.concatenate((A, b), axis=1)\n",
    "    \n",
    "    if m != n:\n",
    "        print(\"Error\")\n",
    "    nb = n + 1\n",
    "        \n",
    "    for k in range(1, n-1):\n",
    "        for i in range(k+1, n):\n",
    "            fator = matAum[i][k]/ matAum[k][k]\n",
    "            matAum[i][k:nb] = matAum[i][k:nb] - fator *matAum[k][k:nb]\n",
    "            \n",
    "    x = np.zeros((n,1))\n",
    "    x[n-1] = matAum[n-1,nb-1]/matAum[n-1][n-1]\n",
    "    \n",
    "    for i in range(n-1, -1, 1):\n",
    "        x[i] = (matAum[i][nb] - (matAum[i][i+1:n] * x[i+1:n]))/matAum[i][i]\n",
    "    \n",
    "    return x\n",
    "\n",
    "matIngenua(matrizA,matrizB)\n",
    "    "
   ]
  },
  {
   "cell_type": "markdown",
   "metadata": {},
   "source": [
    "**Exercício - 9.7**"
   ]
  },
  {
   "cell_type": "code",
   "execution_count": null,
   "metadata": {},
   "outputs": [],
   "source": [
    "A = [[2, -6, -1], [-3,-1,7], [-8,1,-2]]\n",
    "print(len(A))\n",
    "b = [-38,-34,-20]    \n",
    "\n",
    "def Gauss(A,b):\n",
    "    n = len(A)\n",
    "    M = A\n",
    "\n",
    "    i = 0\n",
    "    for x in M:\n",
    "     \n",
    "        x.append(b[i])\n",
    "        i += 1\n",
    "\n",
    "    for k in range(n):\n",
    "        for i in range(k,n):\n",
    "            \n",
    "            if abs(M[i][k]) > abs(M[k][k]):\n",
    "                M[k], M[i] = M[i],M[k]\n",
    "            else:\n",
    "                pass\n",
    "\n",
    "        for j in range(k+1,n):\n",
    "            q = float(M[j][k]) / M[k][k]\n",
    "            for m in range(k, n+1):\n",
    "                  M[j][m] -=  q * M[k][m]\n",
    "\n",
    "    x = [0 for i in range(n)]\n",
    "\n",
    "    x[n-1] =float(M[n-1][n])/M[n-1][n-1]\n",
    "    for i in range (n-1,-1,-1):\n",
    "        z = 0\n",
    "        for j in range(i+1,n):\n",
    "            z = z  + float(M[i][j])*x[j]\n",
    "            x[i] = float(M[i][n] - z)/M[i][i]\n",
    "            \n",
    "    \n",
    "    return x\n",
    "Gauss(A,b)"
   ]
  },
  {
   "cell_type": "markdown",
   "metadata": {},
   "source": [
    "**Exercício 9.9**"
   ]
  },
  {
   "cell_type": "code",
   "execution_count": 3,
   "metadata": {},
   "outputs": [
    {
     "name": "stdout",
     "output_type": "stream",
     "text": [
      "[[ 120  -30    0  200]\n",
      " [  90  -90    0    0]\n",
      " [  40   60 -120 -500]]\n",
      "\n",
      "\n",
      "[[  90  -90    0    0]\n",
      " [ 120  -30    0  200]\n",
      " [  40   60 -120 -500]]\n",
      "\n",
      "\n",
      "[[  90  -90    0    0]\n",
      " [   0   90    0  200]\n",
      " [   0  100 -120 -500]]\n",
      "\n",
      "\n",
      "[[  90  -90    0    0]\n",
      " [   0   90    0  200]\n",
      " [   0    0 -120 -722]]\n",
      "\n",
      "\n",
      "C1 :  2.2222222222222223\n",
      "\n",
      "\n",
      "C2 :  2.2222222222222223\n",
      "\n",
      "\n",
      "C3 :  6.016666666666667\n"
     ]
    }
   ],
   "source": [
    "A = np.array([[120, -30, 0, 200],  \n",
    "              [90, -90, 0, 0],  \n",
    "              [40, 60, -120, -500]], dtype='int') \n",
    "print(A)  \n",
    "print('\\n')\n",
    "\n",
    "\n",
    "aux = np.copy(A[1,:])  \n",
    "A[1,:] = np.copy(A[0,:])  \n",
    "A[0,:] = np.copy(aux)  \n",
    "print(A)  \n",
    "print('\\n') \n",
    "\n",
    " \n",
    "A[1,:] = A[1,:] - (A[1,0]/A[0,0])*A[0,:]  \n",
    "A[2,:] = A[2,:] - (A[2,0]/A[0,0])*A[0,:]  \n",
    "print(A)  \n",
    "print('\\n') \n",
    "\n",
    "\n",
    "A[2,:] = A[2,:] - (A[2,1]/A[1,1])*A[1,:]  \n",
    "print(A)  \n",
    "print('\\n') \n",
    "\n",
    "\n",
    "x = np.zeros(3)  \n",
    "x[2] = A[2,3]/A[2,2];  \n",
    "x[1] = (A[1,3] - A[1,2]*x[2])/A[1,1];  \n",
    "x[0] = (A[0,3] - A[0,2]*x[2] - A[0,1]*x[1])/A[0,0]  \n",
    "print(\"C1 : \",x[0])\n",
    "print('\\n')\n",
    "print(\"C2 : \",x[1])\n",
    "print('\\n')\n",
    "print(\"C3 : \",x[2])"
   ]
  },
  {
   "cell_type": "markdown",
   "metadata": {},
   "source": [
    "**Exercício 10.3**"
   ]
  },
  {
   "cell_type": "code",
   "execution_count": 5,
   "metadata": {},
   "outputs": [
    {
     "name": "stdout",
     "output_type": "stream",
     "text": [
      "[[  7   2  -3 -12]\n",
      " [  0   4  -2 -16]\n",
      " [  0  -1  -5 -24]]\n",
      "\n",
      "\n",
      "[[  7   2  -3 -12]\n",
      " [  0   4  -2 -16]\n",
      " [  0   0  -5 -28]]\n",
      "\n",
      "\n",
      "[[  7   2  -3 -12]\n",
      " [  0   4  -2 -16]\n",
      " [  0   0  -5 -28]]\n",
      "\n",
      "\n",
      "X1:  1.0285714285714282\n",
      "\n",
      "\n",
      "X2:  -1.2000000000000002\n",
      "\n",
      "\n",
      "X3:  5.6\n",
      "\n",
      "\n"
     ]
    }
   ],
   "source": [
    "def  trocaLinha(A,i,j):\n",
    "    buffer = A[i]\n",
    "    A[i] = A[j]\n",
    "    A[j] = buffer\n",
    "    return A\n",
    "\n",
    "def multLinha(A,i,alfa):\n",
    "    A[i] = alfa*A[i]\n",
    "    return A\n",
    "\n",
    "def subsLinha(A,i,k,alfa):\n",
    "    A[i] = A[i] + alfa*A[k]\n",
    "    return A\n",
    "\n",
    "# step k of gauss elimination:\n",
    "def Gauss(A,k):\n",
    "    L=range(len(A))\n",
    "    for j in L[k+1:]:\n",
    "        m=-A[j,k]/A[k,k]\n",
    "        A=subsLinha(A,j,k,m)\n",
    "    return A\n",
    "\n",
    "\n",
    "def formaTriangular(A):\n",
    "    L=len(A)\n",
    "    for k in range(L):\n",
    "        if A[k,k] != 0:\n",
    "            A=Gauss(A,k)\n",
    "            print (A) \n",
    "            print('\\n')\n",
    "        else: \n",
    "            print (' falhou no passo ', k)\n",
    "    return A\n",
    "\n",
    "A = np.array([[7, 2, -3, -12],\n",
    "         [2, 5, -3, -20],\n",
    "         [1, -1, -6, -26]], dtype = 'int')\n",
    "B=formaTriangular(A)\n",
    "x = np.zeros(3)  \n",
    "x[2] = A[2,3]/A[2,2];  \n",
    "x[1] = (A[1,3] - A[1,2]*x[2])/A[1,1];  \n",
    "x[0] = (A[0,3] - A[0,2]*x[2] - A[0,1]*x[1])/A[0,0] \n",
    "print(\"X1: \", x[0])\n",
    "print('\\n')\n",
    "print(\"X2: \", x[1])\n",
    "print('\\n')\n",
    "print(\"X3: \", x[2])\n",
    "print('\\n')"
   ]
  },
  {
   "cell_type": "markdown",
   "metadata": {},
   "source": [
    "**Exercício 10.4**"
   ]
  },
  {
   "cell_type": "code",
   "execution_count": 7,
   "metadata": {},
   "outputs": [
    {
     "data": {
      "text/plain": [
       "(array([[ 1.        ,  0.        ,  0.        ],\n",
       "        [ 0.28571429,  1.        ,  0.        ],\n",
       "        [ 0.14285714, -0.29032258,  1.        ]]),\n",
       " array([[  7.        ,   2.        ,  -3.        , -12.        ],\n",
       "        [  0.        ,   4.42857143,  -2.14285714, -20.        ],\n",
       "        [  0.        ,   0.        ,  -6.19354839, -26.        ]]))"
      ]
     },
     "execution_count": 7,
     "metadata": {},
     "output_type": "execute_result"
    }
   ],
   "source": [
    "def fatoraLU(A):  \n",
    "    U = np.copy(A)  \n",
    "    n = np.shape(U)[0]  \n",
    "    L = np.eye(n)  \n",
    "    for j in np.arange(n-1):  \n",
    "        for i in np.arange(j+1,n):  \n",
    "            L[i,j] = U[i,j]/U[j,j]  \n",
    "            for k in np.arange(j+1,n):  \n",
    "                U[i,k] = U[i,k] - L[i,j]*U[j,k]  \n",
    "            U[i,j] = 0  \n",
    "    return L, U\n",
    "fatoraLU(A)"
   ]
  },
  {
   "cell_type": "code",
   "execution_count": 9,
   "metadata": {},
   "outputs": [
    {
     "name": "stdout",
     "output_type": "stream",
     "text": [
      "[[1. 0. 0.]\n",
      " [0. 1. 0.]\n",
      " [0. 0. 1.]]\n",
      "[[ 1.          0.          0.        ]\n",
      " [ 0.28571429  1.          0.        ]\n",
      " [ 0.14285714 -0.29032258  1.        ]]\n",
      "[[  7.           2.          -3.         -12.        ]\n",
      " [  0.           4.42857143  -2.14285714 -16.57142857]\n",
      " [  0.           0.          -6.19354839 -29.09677419]]\n"
     ]
    }
   ],
   "source": [
    "P,L,U = sla.lu(A)\n",
    "print(P)\n",
    "print(L)\n",
    "print(U)"
   ]
  },
  {
   "cell_type": "markdown",
   "metadata": {},
   "source": [
    "**Exercício 10.5**"
   ]
  },
  {
   "cell_type": "code",
   "execution_count": 10,
   "metadata": {},
   "outputs": [],
   "source": [
    "def fatoraLU(A):  \n",
    "    U = np.copy(A)  \n",
    "    n = np.shape(U)[0]  \n",
    "    L = np.eye(n)  \n",
    "    for j in np.arange(n-1):  \n",
    "        for i in np.arange(j+1,n):  \n",
    "            L[i,j] = U[i,j]/U[j,j]  \n",
    "            for k in np.arange(j+1,n):  \n",
    "                U[i,k] = U[i,k] - L[i,j]*U[j,k]  \n",
    "            U[i,j] = 0  \n",
    "    print(L)\n",
    "    print('\\n')\n",
    "    print(U)"
   ]
  },
  {
   "cell_type": "code",
   "execution_count": 11,
   "metadata": {},
   "outputs": [
    {
     "name": "stdout",
     "output_type": "stream",
     "text": [
      "[[ 1.   0.   0. ]\n",
      " [-1.5  1.   0. ]\n",
      " [-4.   2.3  1. ]]\n",
      "\n",
      "\n",
      "[[  2.    -6.    -1.   -38.  ]\n",
      " [  0.   -10.     4.5  -34.  ]\n",
      " [  0.     0.   -16.35 -40.  ]]\n"
     ]
    }
   ],
   "source": [
    "A = np.array([[2, -6, -1, -38],\n",
    "         [-3, -1, 6, -34],\n",
    "         [-8, 1, -2, -40]], dtype = 'double')\n",
    "fatoraLU(A)"
   ]
  },
  {
   "cell_type": "code",
   "execution_count": 12,
   "metadata": {},
   "outputs": [
    {
     "name": "stdout",
     "output_type": "stream",
     "text": [
      "[[0. 1. 0.]\n",
      " [0. 0. 1.]\n",
      " [1. 0. 0.]]\n",
      "\n",
      "\n",
      "[[ 1.          0.          0.        ]\n",
      " [-0.25        1.          0.        ]\n",
      " [ 0.375       0.23913043  1.        ]]\n",
      "\n",
      "\n",
      "[[ -8.           1.          -2.         -40.        ]\n",
      " [  0.          -5.75        -1.5        -48.        ]\n",
      " [  0.           0.           7.10869565  -7.52173913]]\n"
     ]
    }
   ],
   "source": [
    "A = np.array([[2, -6, -1, -38],\n",
    "         [-3, -1, 6, -34],\n",
    "         [-8, 1, -2, -40]], dtype = 'double')\n",
    "P,L,U=sla.lu(A)\n",
    "print(P)\n",
    "print('\\n')\n",
    "print(L)\n",
    "print('\\n')\n",
    "print(U)"
   ]
  },
  {
   "cell_type": "markdown",
   "metadata": {},
   "source": [
    "**Exercício 10.10**"
   ]
  },
  {
   "cell_type": "code",
   "execution_count": 13,
   "metadata": {},
   "outputs": [],
   "source": [
    "def fatoraLU(A):  \n",
    "    U = np.copy(A)  \n",
    "    n = np.shape(U)[0]  \n",
    "    L = np.eye(n)  \n",
    "    for j in np.arange(n-1):  \n",
    "        for i in np.arange(j+1,n):  \n",
    "            L[i,j] = U[i,j]/U[j,j]  \n",
    "            for k in np.arange(j+1,n):  \n",
    "                U[i,k] = U[i,k] - L[i,j]*U[j,k]  \n",
    "            U[i,j] = 0  \n",
    "    print(L)\n",
    "    print('\\n')\n",
    "    print(U)"
   ]
  },
  {
   "cell_type": "code",
   "execution_count": 14,
   "metadata": {},
   "outputs": [
    {
     "name": "stdout",
     "output_type": "stream",
     "text": [
      "[[ 1.          0.          0.        ]\n",
      " [ 0.66666667  1.          0.        ]\n",
      " [-2.66666667 -1.          1.        ]]\n",
      "\n",
      "\n",
      "[[  3.          -2.           1.         -10.        ]\n",
      " [  0.           7.33333333  -4.66666667  44.        ]\n",
      " [  0.           0.           3.         -26.        ]]\n"
     ]
    }
   ],
   "source": [
    "A = np.array([[3, -2, 1, -10],\n",
    "         [2, 6, -4, 44],\n",
    "         [-8, -2, 5, -26]], dtype = 'double')\n",
    "fatoraLU(A)"
   ]
  },
  {
   "cell_type": "code",
   "execution_count": 15,
   "metadata": {},
   "outputs": [
    {
     "name": "stdout",
     "output_type": "stream",
     "text": [
      "[[0. 0. 1.]\n",
      " [0. 1. 0.]\n",
      " [1. 0. 0.]]\n",
      "\n",
      "\n",
      "[[ 1.     0.     0.   ]\n",
      " [-0.25   1.     0.   ]\n",
      " [-0.375 -0.5    1.   ]]\n",
      "\n",
      "\n",
      "[[ -8.    -2.     5.   -26.  ]\n",
      " [  0.     5.5   -2.75  37.5 ]\n",
      " [  0.     0.     1.5   -1.  ]]\n"
     ]
    }
   ],
   "source": [
    "A = np.array([[3, -2, 1, -10],\n",
    "         [2, 6, -4, 44],\n",
    "         [-8, -2, 5, -26]], dtype = 'double')\n",
    "P,L,U=sla.lu(A)\n",
    "print(P)\n",
    "print('\\n')\n",
    "print(L)\n",
    "print('\\n')\n",
    "print(U)"
   ]
  },
  {
   "cell_type": "code",
   "execution_count": 28,
   "metadata": {},
   "outputs": [],
   "source": [
    "import swap     \n",
    "import error\n",
    "\n",
    "def LUdecomp(a,tol=1.0e-9): \n",
    "    n = len(a) \n",
    "    seq = np.array(range(n))\n",
    "# Set up scale factors \n",
    "    s = np.zeros((n)) \n",
    "    \n",
    "    for i in range(n): \n",
    "        s[i] = max(abs(a[i,:]))\n",
    "        \n",
    "    for k in range(0,n-1):\n",
    "    # Row interchange, if needed \n",
    "        p = np.argmax(np.abs(a[k:n,k])/s[k:n]) + k \n",
    "        if abs(a[p,k]) < tol: error.err(\"Matrix is singular\") \n",
    "        if p != k: \n",
    "            swap.swapRows(s,k,p) \n",
    "            swap.swapRows(a,k,p) \n",
    "            swap.swapRows(seq,k,p)\n",
    "\n",
    "    for i in range(k+1,n): \n",
    "        if a[i,k] != 0.0: \n",
    "            lam = a[i,k]/a[k,k]\n",
    "            a[i,k+1:n] = a[i,k+1:n] - lam*a[k,k+1:n] \n",
    "            a[i,k] = lam \n",
    "            return a,seq\n",
    "            \n",
    "def LUsolve(a,b,seq): \n",
    "    n = len(a)\n",
    "    \n",
    "    x = b.copy()\n",
    "    for i in range(n):\n",
    "        x[i] = b[seq[i]]\n",
    "        \n",
    "    for k in range(1, n):\n",
    "        x[k] = x[k] - np.dot(a[k,0:k], x[0:k])\n",
    "    x[n-1] = x[n-1]/a[n-1,n-1]\n",
    "    for k in range(n-2, -1, -1):\n",
    "        x[k] = (x[k] - np.dot(a[k,k+1:n], x[k+1:n]))/a[k,k]\n",
    "    return x"
   ]
  },
  {
   "cell_type": "code",
   "execution_count": 40,
   "metadata": {},
   "outputs": [],
   "source": [
    "a = np.array([[2,-2,6],[-2,4,3],[-1,8,4]])\n",
    "b = np.array([16,0,-1])"
   ]
  },
  {
   "cell_type": "code",
   "execution_count": 41,
   "metadata": {},
   "outputs": [
    {
     "ename": "AttributeError",
     "evalue": "module 'swap' has no attribute 'swapRows'",
     "output_type": "error",
     "traceback": [
      "\u001b[1;31m---------------------------------------------------------------------------\u001b[0m",
      "\u001b[1;31mAttributeError\u001b[0m                            Traceback (most recent call last)",
      "\u001b[1;32m<ipython-input-41-6e99c30a3d0f>\u001b[0m in \u001b[0;36m<module>\u001b[1;34m\u001b[0m\n\u001b[1;32m----> 1\u001b[1;33m \u001b[0mLUdecomp\u001b[0m\u001b[1;33m(\u001b[0m\u001b[0ma\u001b[0m\u001b[1;33m)\u001b[0m\u001b[1;33m\u001b[0m\u001b[1;33m\u001b[0m\u001b[0m\n\u001b[0m",
      "\u001b[1;32m<ipython-input-28-1b118483dff6>\u001b[0m in \u001b[0;36mLUdecomp\u001b[1;34m(a, tol)\u001b[0m\n\u001b[0;32m     16\u001b[0m         \u001b[1;32mif\u001b[0m \u001b[0mabs\u001b[0m\u001b[1;33m(\u001b[0m\u001b[0ma\u001b[0m\u001b[1;33m[\u001b[0m\u001b[0mp\u001b[0m\u001b[1;33m,\u001b[0m\u001b[0mk\u001b[0m\u001b[1;33m]\u001b[0m\u001b[1;33m)\u001b[0m \u001b[1;33m<\u001b[0m \u001b[0mtol\u001b[0m\u001b[1;33m:\u001b[0m \u001b[0merror\u001b[0m\u001b[1;33m.\u001b[0m\u001b[0merr\u001b[0m\u001b[1;33m(\u001b[0m\u001b[1;34m\"Matrix is singular\"\u001b[0m\u001b[1;33m)\u001b[0m\u001b[1;33m\u001b[0m\u001b[1;33m\u001b[0m\u001b[0m\n\u001b[0;32m     17\u001b[0m         \u001b[1;32mif\u001b[0m \u001b[0mp\u001b[0m \u001b[1;33m!=\u001b[0m \u001b[0mk\u001b[0m\u001b[1;33m:\u001b[0m\u001b[1;33m\u001b[0m\u001b[1;33m\u001b[0m\u001b[0m\n\u001b[1;32m---> 18\u001b[1;33m             \u001b[0mswap\u001b[0m\u001b[1;33m.\u001b[0m\u001b[0mswapRows\u001b[0m\u001b[1;33m(\u001b[0m\u001b[0ms\u001b[0m\u001b[1;33m,\u001b[0m\u001b[0mk\u001b[0m\u001b[1;33m,\u001b[0m\u001b[0mp\u001b[0m\u001b[1;33m)\u001b[0m\u001b[1;33m\u001b[0m\u001b[1;33m\u001b[0m\u001b[0m\n\u001b[0m\u001b[0;32m     19\u001b[0m             \u001b[0mswap\u001b[0m\u001b[1;33m.\u001b[0m\u001b[0mswapRows\u001b[0m\u001b[1;33m(\u001b[0m\u001b[0ma\u001b[0m\u001b[1;33m,\u001b[0m\u001b[0mk\u001b[0m\u001b[1;33m,\u001b[0m\u001b[0mp\u001b[0m\u001b[1;33m)\u001b[0m\u001b[1;33m\u001b[0m\u001b[1;33m\u001b[0m\u001b[0m\n\u001b[0;32m     20\u001b[0m             \u001b[0mswap\u001b[0m\u001b[1;33m.\u001b[0m\u001b[0mswapRows\u001b[0m\u001b[1;33m(\u001b[0m\u001b[0mseq\u001b[0m\u001b[1;33m,\u001b[0m\u001b[0mk\u001b[0m\u001b[1;33m,\u001b[0m\u001b[0mp\u001b[0m\u001b[1;33m)\u001b[0m\u001b[1;33m\u001b[0m\u001b[1;33m\u001b[0m\u001b[0m\n",
      "\u001b[1;31mAttributeError\u001b[0m: module 'swap' has no attribute 'swapRows'"
     ]
    }
   ],
   "source": [
    "LUdecomp(a)"
   ]
  },
  {
   "cell_type": "code",
   "execution_count": null,
   "metadata": {},
   "outputs": [],
   "source": []
  }
 ],
 "metadata": {
  "kernelspec": {
   "display_name": "Python 3",
   "language": "python",
   "name": "python3"
  },
  "language_info": {
   "codemirror_mode": {
    "name": "ipython",
    "version": 3
   },
   "file_extension": ".py",
   "mimetype": "text/x-python",
   "name": "python",
   "nbconvert_exporter": "python",
   "pygments_lexer": "ipython3",
   "version": "3.7.3"
  }
 },
 "nbformat": 4,
 "nbformat_minor": 2
}
