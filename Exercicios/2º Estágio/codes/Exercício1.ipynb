{
 "cells": [
  {
   "cell_type": "code",
   "execution_count": null,
   "metadata": {},
   "outputs": [],
   "source": [
    "import numpy as np\n",
    "import scipy.linalg as sla\n"
   ]
  },
  {
   "cell_type": "markdown",
   "metadata": {},
   "source": [
    "João Victor Soares de Almeida"
   ]
  },
  {
   "cell_type": "markdown",
   "metadata": {},
   "source": [
    "**Exercício II**\n",
    "\n",
    "                      Substituição Regressiva\n",
    "$$x_i = {b_i - \\sum_{j = i+1}^{n} a_{ij}x_j \\over a_{ii}}$$"
   ]
  },
  {
   "cell_type": "code",
   "execution_count": 10,
   "metadata": {},
   "outputs": [],
   "source": [
    "C = np.array([[2,7],[4,1]])\n",
    "c_1 = np.array([1,2])\n",
    "\n",
    "\n",
    "\n",
    "D = np.array([[3,4,-5,1],\n",
    "              [0,1,1,-2],\n",
    "              [0,0,4,-5],\n",
    "              [0,0,0,2]])\n",
    "\n",
    "e = np.array([-10,-1,3,2])\n",
    "\n",
    "A = np.array([[3,0,0,0],\n",
    "                      [2,1,0,0],\n",
    "                      [1,0,1,0],\n",
    "                      [1,1,1,1]])\n",
    "\n",
    "b = np.array([4,2,4,2])"
   ]
  },
  {
   "cell_type": "code",
   "execution_count": null,
   "metadata": {},
   "outputs": [],
   "source": [
    "\n",
    "\n",
    "def subs_regressiva(A, b):\n",
    "        n = len(b)\n",
    "        x = [0 for i in range(n)]\n",
    "        x[n-1] = b[n-1]/A[n-1][n-1]\n",
    "        \n",
    "        for i in range(n-1, -1, -1):\n",
    "            \n",
    "            soma = b[i]\n",
    "            for j in range(i+1, n):\n",
    "                soma = soma - A[i][j] * x[j]\n",
    "            x[i] = soma/A[i][i]\n",
    "            \n",
    "        return print(\"Vetor solução é: \",x)\n",
    "subs_regressiva(D, e)"
   ]
  },
  {
   "cell_type": "markdown",
   "metadata": {},
   "source": [
    "**Exercício III**\n",
    "\n",
    "$$x_i = {b_i - \\sum_{j = i}^{n-1} a_{ij}x_j \\over a_{ii}}$$"
   ]
  },
  {
   "cell_type": "code",
   "execution_count": 11,
   "metadata": {},
   "outputs": [
    {
     "data": {
      "text/plain": [
       "[1.3333333333333333, 2.0, 2.666666666666667, -1.333333333333333]"
      ]
     },
     "execution_count": 11,
     "metadata": {},
     "output_type": "execute_result"
    }
   ],
   "source": [
    "\n",
    "def subs_progressiva(A, b):\n",
    "        n = len(b)\n",
    "        x = [0 for i in range(n)]\n",
    "        for i in range(n):\n",
    "            soma = 0\n",
    "            for j in range(i-1):\n",
    "                soma = soma + A[i][j] * x[j] \n",
    "                \n",
    "            x[i] = (b[i] - soma)/A[i][i]\n",
    "        return x\n",
    "subs_progressiva(A, b)"
   ]
  },
  {
   "cell_type": "markdown",
   "metadata": {},
   "source": [
    "**Exercício IV**"
   ]
  },
  {
   "cell_type": "code",
   "execution_count": null,
   "metadata": {},
   "outputs": [],
   "source": [
    "A = np.array([[3,4,-5,1],[0,1,1,-2],[0,0,4,-5],[0,0,0,2]])\n",
    "b = np.array([-10,-1,3,2])"
   ]
  },
  {
   "cell_type": "code",
   "execution_count": null,
   "metadata": {},
   "outputs": [],
   "source": [
    "x = sla.solve_triangular(A,b)\n",
    "%timeit x\n"
   ]
  },
  {
   "cell_type": "code",
   "execution_count": 9,
   "metadata": {},
   "outputs": [
    {
     "data": {
      "text/plain": [
       "array([ 1.33333333, -0.66666667,  2.66666667, -1.33333333])"
      ]
     },
     "execution_count": 9,
     "metadata": {},
     "output_type": "execute_result"
    }
   ],
   "source": [
    "B = np.array([[3,0,0,0],[2,1,0,0],[1,0,1,0],[1,1,1,1]])\n",
    "c = np.array([4,2,4,2])\n",
    "\n",
    "x = sla.solve_triangular(B,c, lower= True)\n",
    "x"
   ]
  },
  {
   "cell_type": "markdown",
   "metadata": {},
   "source": [
    "Os resultados gerados tanto pela implementação da Substituição Regressiva/Progressiva quanto pelo o parâmetro **solve_triangular** do Scipy, são os mesmos, a diferente entre a implementação e o parâmetro é o tempo de execução.\n",
    "- Implementação: 210 µs ± 20.1 µs per loop\n",
    "- 33.2 ns ± 6.15 ns per loop"
   ]
  },
  {
   "cell_type": "code",
   "execution_count": null,
   "metadata": {},
   "outputs": [],
   "source": [
    "\n",
    "\n",
    "def back_sub(A,b):\n",
    "    n = len(A)\n",
    "    print('n é:', n)\n",
    "    c = [0]*n\n",
    "    c[n-1] = b[n-1]/A[n-1][n-1]\n",
    "    for i in range(n-1,-1,-1):\n",
    "        soma = b[i]\n",
    "        for j in range(i+1,n): #j goes 1,2 @ i = 0\n",
    "                               #j goes 2   @ i = 1\n",
    "            soma = soma - A[i][j]*c[j]\n",
    "            print('--')\n",
    "        c[i] = soma/A[i][i]\n",
    "    return c\n",
    "back_sub(D,e)\n",
    "\n"
   ]
  },
  {
   "cell_type": "code",
   "execution_count": null,
   "metadata": {},
   "outputs": [],
   "source": []
  }
 ],
 "metadata": {
  "kernelspec": {
   "display_name": "Python 3",
   "language": "python",
   "name": "python3"
  },
  "language_info": {
   "codemirror_mode": {
    "name": "ipython",
    "version": 3
   },
   "file_extension": ".py",
   "mimetype": "text/x-python",
   "name": "python",
   "nbconvert_exporter": "python",
   "pygments_lexer": "ipython3",
   "version": "3.7.3"
  }
 },
 "nbformat": 4,
 "nbformat_minor": 2
}
